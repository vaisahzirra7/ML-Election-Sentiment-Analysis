{
 "cells": [
  {
   "cell_type": "markdown",
   "id": "e6aba876-5bc5-4510-8019-c8950c350706",
   "metadata": {},
   "source": [
    "## STEP A: Data Cleaning Steps"
   ]
  },
  {
   "cell_type": "markdown",
   "id": "45cc517e-102b-4773-b31b-5321d46e956b",
   "metadata": {},
   "source": [
    "### Importing Required Libraries"
   ]
  },
  {
   "cell_type": "code",
   "execution_count": 96,
   "id": "f4cfdf4f-9b4c-4ad8-9ecd-172e5ee2a9c9",
   "metadata": {},
   "outputs": [
    {
     "name": "stderr",
     "output_type": "stream",
     "text": [
      "[nltk_data] Downloading package punkt to\n",
      "[nltk_data]     C:\\Users\\ICT\\AppData\\Roaming\\nltk_data...\n",
      "[nltk_data]   Package punkt is already up-to-date!\n"
     ]
    }
   ],
   "source": [
    "import pandas as pd\n",
    "\n",
    "#NLTK (Natural Language Toolkit for normalizing text\n",
    "\n",
    "import re\n",
    "import os\n",
    "import nltk\n",
    "nltk.download('punkt')\n",
    "\n",
    "\n",
    "from nltk.sentiment.vader import SentimentIntensityAnalyzer\n",
    "from sklearn.feature_extraction.text import TfidfVectorizer\n",
    "from sklearn.model_selection import train_test_split\n",
    "from sklearn.linear_model import LogisticRegression\n",
    "from sklearn.metrics import classification_report, confusion_matrix, accuracy_score\n",
    "from sklearn.metrics import f1_score\n",
    "\n",
    "from sklearn.neighbors import KNeighborsClassifier\n",
    "from sklearn.naive_bayes import MultinomialNB\n",
    "from sklearn.svm import LinearSVC\n",
    "from sklearn.ensemble import RandomForestClassifier\n",
    "import matplotlib.pyplot as plt\n",
    "from nltk.corpus import stopwords\n",
    "from nltk import pos_tag, word_tokenize\n",
    "from nltk.tokenize import word_tokenize\n",
    "from nltk.stem import WordNetLemmatizer\n",
    "from textblob import TextBlob\n",
    "from nltk.sentiment.vader import SentimentIntensityAnalyzer\n",
    "from sklearn.decomposition import PCA\n",
    "from sklearn.preprocessing import StandardScaler\n",
    "import matplotlib.pyplot as plt\n",
    "import seaborn as sns\n",
    "import joblib\n"
   ]
  },
  {
   "cell_type": "code",
   "execution_count": 2,
   "id": "46fc122d-5a87-42e3-96d9-03185d4f9f62",
   "metadata": {},
   "outputs": [
    {
     "name": "stderr",
     "output_type": "stream",
     "text": [
      "[nltk_data] Error loading stopwords: <urlopen error [Errno 11001]\n",
      "[nltk_data]     getaddrinfo failed>\n",
      "[nltk_data] Error loading punkt: <urlopen error [Errno 11001]\n",
      "[nltk_data]     getaddrinfo failed>\n",
      "[nltk_data] Error loading wordnet: <urlopen error [Errno 11001]\n",
      "[nltk_data]     getaddrinfo failed>\n",
      "[nltk_data] Error loading averaged_perceptron_tagger: <urlopen error\n",
      "[nltk_data]     [Errno 11001] getaddrinfo failed>\n",
      "[nltk_data] Error loading vader_lexicon: <urlopen error [Errno 11001]\n",
      "[nltk_data]     getaddrinfo failed>\n"
     ]
    },
    {
     "data": {
      "text/plain": [
       "False"
      ]
     },
     "execution_count": 2,
     "metadata": {},
     "output_type": "execute_result"
    }
   ],
   "source": [
    "#Download necessary NLTK resources (only run once)\n",
    "nltk.download('stopwords')\n",
    "nltk.download('punkt')\n",
    "nltk.download('wordnet')\n",
    "nltk.download('averaged_perceptron_tagger')\n",
    "nltk.download('vader_lexicon')"
   ]
  },
  {
   "cell_type": "markdown",
   "id": "d3ee8023-cb32-4ded-869f-9cc71078b42b",
   "metadata": {},
   "source": [
    "# Step 1: Removing Duplicates"
   ]
  },
  {
   "cell_type": "markdown",
   "id": "22e74a3d-0808-4ee7-aa57-cdd0e455f455",
   "metadata": {},
   "source": [
    "- Load your dataset.\n",
    "- Explore the first few rounds using .head()\n",
    "- Remove duplicate rows based on the tweet text column.\n",
    "- Save the cleaned dataset."
   ]
  },
  {
   "cell_type": "markdown",
   "id": "22101985-e8e7-46b7-b704-df7028c34d6c",
   "metadata": {},
   "source": [
    "### Loading dataset (Use \"r\" before the string to handle Windows file paths)"
   ]
  },
  {
   "cell_type": "code",
   "execution_count": 3,
   "id": "5d66dff8-328a-4d2a-b4f8-de39eea45220",
   "metadata": {},
   "outputs": [],
   "source": [
    "data = pd.read_csv('election_dataset.csv', low_memory=False)"
   ]
  },
  {
   "cell_type": "markdown",
   "id": "288c981d-357f-48e8-9714-cb50df1f1fc4",
   "metadata": {},
   "source": [
    "### Explore the first few rounds using .head()"
   ]
  },
  {
   "cell_type": "code",
   "execution_count": 4,
   "id": "37b7c3ff-ba87-4fc4-87b2-75d70062b144",
   "metadata": {},
   "outputs": [
    {
     "name": "stdout",
     "output_type": "stream",
     "text": [
      "                         Source Language  Number of Likes  Number of Retweets  \\\n",
      "0  Tweets from General hashtags       en                0                   0   \n",
      "1  Tweets from General hashtags       en                3                   0   \n",
      "2  Tweets from General hashtags       en                0                   0   \n",
      "3  Tweets from General hashtags       en                1                   0   \n",
      "4  Tweets from General hashtags       en                0                   0   \n",
      "\n",
      "   Author Following Count  Author Listed Count  Author Verified  \\\n",
      "0                      58                    0            False   \n",
      "1                     386                    1            False   \n",
      "2                      97                    0            False   \n",
      "3                     512                    0            False   \n",
      "4                     931                    1            False   \n",
      "\n",
      "  Author Tweets Count (2) Author Followers Count (2)  \\\n",
      "0                    3546                         36   \n",
      "1                    1459                        509   \n",
      "2                       5                          0   \n",
      "3                    2276                         55   \n",
      "4                   19560                        529   \n",
      "\n",
      "                                              Tweets  \n",
      "0                                               TRUE  \n",
      "1  zoom in and see the title of the compendium ti...  \n",
      "2  zombie no go go unless you tell am to go\\nzomb...  \n",
      "3                   zlatan lagos anthem\\n\\n live via  \n",
      "4                   zinoleesky rocking \\n\\n live via  \n"
     ]
    }
   ],
   "source": [
    "print(data.head())"
   ]
  },
  {
   "cell_type": "markdown",
   "id": "adbbf999-f8c3-4bb3-9757-d8d567d72429",
   "metadata": {},
   "source": [
    "###  Check for duplicates"
   ]
  },
  {
   "cell_type": "code",
   "execution_count": 5,
   "id": "1ef741c5-5828-44de-9920-1406a5523eb0",
   "metadata": {},
   "outputs": [
    {
     "name": "stdout",
     "output_type": "stream",
     "text": [
      "Number of duplicate tweets before removal: 52065\n"
     ]
    }
   ],
   "source": [
    "print(\"Number of duplicate tweets before removal:\", data.duplicated(subset=['Tweets']).sum())"
   ]
  },
  {
   "cell_type": "markdown",
   "id": "6b3051fa-2d95-48d7-9082-4d8cf43e057c",
   "metadata": {},
   "source": [
    "### Remove duplicates based on the tweet text column"
   ]
  },
  {
   "cell_type": "code",
   "execution_count": 6,
   "id": "32666e32-7716-4e07-b228-a0e0bcc3a323",
   "metadata": {},
   "outputs": [],
   "source": [
    "data = data.drop_duplicates(subset=['Tweets'], keep='first')"
   ]
  },
  {
   "cell_type": "markdown",
   "id": "290e2b8d-486e-421c-8fa9-4ecc89f69635",
   "metadata": {},
   "source": [
    "### Save cleaned dataset"
   ]
  },
  {
   "cell_type": "code",
   "execution_count": 7,
   "id": "9512ae6b-80dd-457b-84f3-1065c69f90be",
   "metadata": {},
   "outputs": [],
   "source": [
    "cleaned_file_path = \"cleaned_election_dataset.csv\"\n",
    "data.to_csv(cleaned_file_path, index=False)"
   ]
  },
  {
   "cell_type": "markdown",
   "id": "194f1375-a994-4d2b-bcd6-49e0a548f9c3",
   "metadata": {},
   "source": [
    "### Check duplicates after removal"
   ]
  },
  {
   "cell_type": "code",
   "execution_count": 8,
   "id": "c7ff8671-973c-422b-91cf-b86dc58ddaa1",
   "metadata": {},
   "outputs": [
    {
     "name": "stdout",
     "output_type": "stream",
     "text": [
      "Number of duplicate tweets after removal: 0\n",
      "Duplicates removed successfully! Cleaned dataset saved as: cleaned_election_dataset.csv\n"
     ]
    }
   ],
   "source": [
    "print(\"Number of duplicate tweets after removal:\", data.duplicated(subset=['Tweets']).sum())\n",
    "\n",
    "print(\"Duplicates removed successfully! Cleaned dataset saved as:\", cleaned_file_path)"
   ]
  },
  {
   "cell_type": "markdown",
   "id": "9a709b5a-1a8d-4557-922b-3c0a07ccbb1b",
   "metadata": {},
   "source": [
    "\n",
    "# STEP B: Dropping Unnecessary Columns."
   ]
  },
  {
   "cell_type": "markdown",
   "id": "4b56a426-8204-4b97-bc5f-f5fcdcaaaaa9",
   "metadata": {},
   "source": [
    "**We will :**\n",
    "\n",
    "- List all column names to identify what to keep or remove.\n",
    "- Drop irrelevant columns (e.g., metadata like source, etc.).\n",
    "- Keep only necessary columns for sentiment analysis (e.g., tweets, language)."
   ]
  },
  {
   "cell_type": "code",
   "execution_count": 9,
   "id": "a3e579bf-b195-483d-9860-b018accdf660",
   "metadata": {},
   "outputs": [
    {
     "name": "stdout",
     "output_type": "stream",
     "text": [
      "Index(['Source', 'Language', 'Number of Likes', 'Number of Retweets',\n",
      "       'Author Following Count', 'Author Listed Count', 'Author Verified',\n",
      "       'Author Tweets Count (2)', 'Author Followers Count (2)', 'Tweets'],\n",
      "      dtype='object')\n"
     ]
    }
   ],
   "source": [
    "print(data.columns)"
   ]
  },
  {
   "cell_type": "markdown",
   "id": "3c88a9cd-3311-4ddc-868b-3c136aa175db",
   "metadata": {},
   "source": [
    "---"
   ]
  },
  {
   "cell_type": "markdown",
   "id": "783af887-10b5-4661-8fda-f62284b1fe25",
   "metadata": {},
   "source": [
    "### **Column Selection for Sentiment Analysis**\n",
    "\n",
    "| **Column Name**                 | **Keep?** | **Reason** |\n",
    "|----------------------------------|----------|-----------|\n",
    "| ✅ `Tweets`                     | ✅ Yes  | Main text for sentiment analysis. |\n",
    "| ✅ `Language`                   | ✅ Yes | Useful because we are filtering only English tweets. |\n",
    "| ✅ `Number of Likes`            | ✅ Yes | Helps analyze sentiment vs. engagement. |\n",
    "| ✅ `Number of Retweets`         | ✅ Yes | Shows how sentiment spreads. |\n",
    "| ❌ `Source`                     | ❌ No | Not relevant. |\n",
    "| ❌ `Author Following Count`     | ❌ No | User metadata, not needed. |\n",
    "| ❌ `Author Listed Count`        | ❌ No | Not relevant. |\n",
    "| ❌ `Author Verified`            | ❌ No | Not needed. |\n",
    "| ❌ `Author Tweets Count (2)`    | ❌ No | Not relevant. |\n",
    "| ❌ `Author Followers Count (2)` | ❌ No | Not needed. |\n",
    "\n",
    "---\n",
    "✅ **Keeping `Number of Likes` & `Number of Retweets`** to analyze sentiment vs. popularity.  \n",
    "❌ **Dropping metadata** (user verification, following count, etc.) since they don’t impact sentiment analyis\n"
   ]
  },
  {
   "cell_type": "markdown",
   "id": "6bc08bcc-e1df-4ab9-94a4-b6b853f74175",
   "metadata": {},
   "source": [
    "### Droping only the unnecessary columns"
   ]
  },
  {
   "cell_type": "code",
   "execution_count": 10,
   "id": "72e1b6cc-43c1-4f8d-9e82-046aa5c0a244",
   "metadata": {},
   "outputs": [],
   "source": [
    "data = data.drop(columns=['Source', 'Author Following Count', 'Author Listed Count', \n",
    "                      'Author Verified', 'Author Tweets Count (2)', \n",
    "                      'Author Followers Count (2)'], errors='ignore')"
   ]
  },
  {
   "cell_type": "markdown",
   "id": "8adee798-1d9e-4368-9292-c697c3a41d24",
   "metadata": {},
   "source": [
    "### Show remaining columns"
   ]
  },
  {
   "cell_type": "code",
   "execution_count": 11,
   "id": "2f50aaef-408e-48b0-9a26-30a1f4d25487",
   "metadata": {},
   "outputs": [
    {
     "name": "stdout",
     "output_type": "stream",
     "text": [
      "Remaining columns: Index(['Language', 'Number of Likes', 'Number of Retweets', 'Tweets'], dtype='object')\n"
     ]
    }
   ],
   "source": [
    "print(\"Remaining columns:\", data.columns)"
   ]
  },
  {
   "cell_type": "markdown",
   "id": "74c813fe-66a7-44e5-8695-e073ce48788a",
   "metadata": {},
   "source": [
    "### Save cleaned dataset"
   ]
  },
  {
   "cell_type": "code",
   "execution_count": 12,
   "id": "3938eff3-bf35-45fd-83ef-6feb3e9ad1db",
   "metadata": {},
   "outputs": [
    {
     "name": "stdout",
     "output_type": "stream",
     "text": [
      "Dataset cleaned!\n"
     ]
    }
   ],
   "source": [
    "cleaned_file_path = r\"C:\\Users\\ICT\\Desktop\\300lvl 2nd SEM\\Machine Learning\\Progress\\cleaned_election_dataset.csv\"\n",
    "data.to_csv(cleaned_file_path, index=False)\n",
    "\n",
    "print(\"Dataset cleaned!\")\n"
   ]
  },
  {
   "cell_type": "markdown",
   "id": "e3f0e5fc-f9d8-4449-af1e-d956b67cfd07",
   "metadata": {},
   "source": [
    "# Step D: Handling Missing Values"
   ]
  },
  {
   "cell_type": "markdown",
   "id": "0aaadbc8-d49d-47bc-b84e-7924de99bfaf",
   "metadata": {},
   "source": [
    "### Check for missing values in each column"
   ]
  },
  {
   "cell_type": "code",
   "execution_count": 13,
   "id": "78223e1f-36d1-4197-a43b-dc7bdc966ef3",
   "metadata": {},
   "outputs": [
    {
     "name": "stdout",
     "output_type": "stream",
     "text": [
      "<class 'pandas.core.frame.DataFrame'>\n",
      "Index: 420213 entries, 0 to 472275\n",
      "Data columns (total 4 columns):\n",
      " #   Column              Non-Null Count   Dtype \n",
      "---  ------              --------------   ----- \n",
      " 0   Language            420213 non-null  object\n",
      " 1   Number of Likes     420213 non-null  int64 \n",
      " 2   Number of Retweets  420213 non-null  int64 \n",
      " 3   Tweets              420212 non-null  object\n",
      "dtypes: int64(2), object(2)\n",
      "memory usage: 16.0+ MB\n",
      "None\n"
     ]
    }
   ],
   "source": [
    "print(data.info())"
   ]
  },
  {
   "cell_type": "code",
   "execution_count": 14,
   "id": "807ca983-0819-4208-8895-61bdafa8acf3",
   "metadata": {},
   "outputs": [
    {
     "name": "stdout",
     "output_type": "stream",
     "text": [
      "Missing values per column:\n",
      " Language              0\n",
      "Number of Likes       0\n",
      "Number of Retweets    0\n",
      "Tweets                1\n",
      "dtype: int64\n"
     ]
    }
   ],
   "source": [
    "print(\"Missing values per column:\\n\", data.isnull().sum())"
   ]
  },
  {
   "cell_type": "markdown",
   "id": "c3eb1618-5a25-4467-ba10-19b5f61e2fe5",
   "metadata": {},
   "source": [
    "*One value is ound missing under the Tweets colum and none from other columns.*"
   ]
  },
  {
   "cell_type": "markdown",
   "id": "1607d69b-0eea-4e40-8754-3de4da64c9a3",
   "metadata": {},
   "source": [
    "### Remove rows (observations) where 'Tweets' column is missing (NaN)"
   ]
  },
  {
   "cell_type": "code",
   "execution_count": 15,
   "id": "7c7bc409-ca16-4923-a367-66a3c29c2b34",
   "metadata": {},
   "outputs": [],
   "source": [
    "data = data.dropna(subset=['Tweets'])"
   ]
  },
  {
   "cell_type": "markdown",
   "id": "e76622c2-134d-45d9-93cb-ef967a89c92b",
   "metadata": {},
   "source": [
    "### Confirm missing values after removal"
   ]
  },
  {
   "cell_type": "code",
   "execution_count": 16,
   "id": "f6ce919a-f498-4ad8-874f-4b545462d690",
   "metadata": {},
   "outputs": [
    {
     "name": "stdout",
     "output_type": "stream",
     "text": [
      "Missing values after removing empty tweets:\n",
      " Language              0\n",
      "Number of Likes       0\n",
      "Number of Retweets    0\n",
      "Tweets                0\n",
      "dtype: int64\n"
     ]
    }
   ],
   "source": [
    "print(\"Missing values after removing empty tweets:\\n\", \n",
    "      data.isnull().sum())"
   ]
  },
  {
   "cell_type": "markdown",
   "id": "58b80128-4066-4c27-9bee-f4eb0608150a",
   "metadata": {},
   "source": [
    "*Ater dropping the rows with missing tweets, we everified that teher are no missing values as all values are : 0*"
   ]
  },
  {
   "cell_type": "markdown",
   "id": "9d279df2-5c74-4e04-a908-9911b0b46773",
   "metadata": {},
   "source": [
    "# Handle Missing Values in Other Columns\n",
    "Now, we decide what to do with missing values in Likes, Retweets, or Language:\n",
    "\n",
    "- Option 1 (Recommended): Fill missing values with 0 for Likes & Retweets.\n",
    "\n",
    "- Option 2: Drop rows if they have missing Likes or Retweets (not recommended unless too many are missing).\n",
    "\n",
    "Fill Missing Likes & Retweets with 0 (Best Choice)\n",
    "\n",
    "` df['Number of Likes'] = df['Number of Likes'].fillna(0)` to replace missing values in likes with 0\n",
    "\n",
    "` df['Number of Retweets'] = df['Number of Retweets'].fillna(0)` to replace missing values in retweets with 0 "
   ]
  },
  {
   "cell_type": "markdown",
   "id": "3ac91831-ff91-48b3-90d0-7515723b64e8",
   "metadata": {},
   "source": [
    "### Save Cleaned Data"
   ]
  },
  {
   "cell_type": "code",
   "execution_count": 17,
   "id": "61a164fd-4d5b-457f-a539-a9b91bc77fa5",
   "metadata": {},
   "outputs": [
    {
     "name": "stdout",
     "output_type": "stream",
     "text": [
      "Missing values handled! Cleaned dataset saved.\n"
     ]
    }
   ],
   "source": [
    "cleaned_file_path = r\"C:\\Users\\ICT\\Desktop\\300lvl 2nd SEM\\Machine Learning\\Progress\\cleaned_election_dataset.csv\"\n",
    "data.to_csv(cleaned_file_path, index=False)\n",
    "\n",
    "print(\"Missing values handled! Cleaned dataset saved.\")"
   ]
  },
  {
   "cell_type": "markdown",
   "id": "5e0d5b90-ee31-4ec3-9c4d-119f618800d6",
   "metadata": {},
   "source": [
    "### Drop Non-English Tweets"
   ]
  },
  {
   "cell_type": "markdown",
   "id": "c624daa6-2158-485e-9c82-1d81210e2844",
   "metadata": {},
   "source": [
    "##### Keep only rows where 'Language' is 'en' (English)\n"
   ]
  },
  {
   "cell_type": "code",
   "execution_count": 18,
   "id": "eec9ace7-452e-4969-8a19-e95e2e384cca",
   "metadata": {},
   "outputs": [],
   "source": [
    "data = data[data['Language'] == 'en']"
   ]
  },
  {
   "cell_type": "markdown",
   "id": "bfbde681-7a5f-487c-89e4-d126688aecf2",
   "metadata": {},
   "source": [
    "##### Confirm that only English tweets remain"
   ]
  },
  {
   "cell_type": "code",
   "execution_count": 19,
   "id": "ae8763bd-dc2e-4fa2-a70b-c1f12215a1e2",
   "metadata": {},
   "outputs": [
    {
     "name": "stdout",
     "output_type": "stream",
     "text": [
      "Unique languages after filtering: ['en']\n",
      "Non-English tweets removed! Remaining dataset size: (404188, 4)\n"
     ]
    }
   ],
   "source": [
    "print(\"Unique languages after filtering:\", data['Language'].unique())\n",
    "print(\"Non-English tweets removed! Remaining dataset size:\", data.shape)"
   ]
  },
  {
   "cell_type": "markdown",
   "id": "985e5bbb-0026-4234-b414-439ec3c5bdcd",
   "metadata": {},
   "source": [
    "### Save Cleaned Data"
   ]
  },
  {
   "cell_type": "code",
   "execution_count": 20,
   "id": "d0c6129b-db9d-4c3a-9477-2bc0918d1ffe",
   "metadata": {},
   "outputs": [
    {
     "name": "stdout",
     "output_type": "stream",
     "text": [
      "✅ Dataset cleaned and saved with only English tweets!\n"
     ]
    }
   ],
   "source": [
    "cleaned_file_path = r\"C:\\Users\\ICT\\Desktop\\300lvl 2nd SEM\\Machine Learning\\Progress\\cleaned_election_dataset.csv\"\n",
    "data.to_csv(cleaned_file_path, index=False)\n",
    "\n",
    "print(\"✅ Dataset cleaned and saved with only English tweets!\")"
   ]
  },
  {
   "cell_type": "markdown",
   "id": "ddac4e7c-3f37-4af9-885c-999c21864a43",
   "metadata": {},
   "source": [
    "# STEP E: Normalize Text (Cleaning Tweets)\n",
    "- Convert text to lowercase (e.g., \"Election Results are OUT\" → \"election results are out\")\n",
    "- Remove special characters, URLs, hashtags, and mentions (e.g., \"Check this out! #election2023 @user https://link.com\" → \"check this out election2023\")\n",
    "- Remove stopwords (common words like “the,” “is,” “and” that don’t add meaning).\n",
    "- Apply lemmatization (reducing words to their base form, e.g., \"running\" → \"run\" and \"votes\" → \"vote\")."
   ]
  },
  {
   "cell_type": "markdown",
   "id": "38d785e0-bb10-424c-ba44-a9d7e4940505",
   "metadata": {},
   "source": [
    "### Initialize lemmatizer and stopwords"
   ]
  },
  {
   "cell_type": "code",
   "execution_count": 21,
   "id": "8aea24ea-4b69-4811-9b9a-f8355ebb3f99",
   "metadata": {},
   "outputs": [],
   "source": [
    "lemmatizer = WordNetLemmatizer()\n",
    "stop_words = set(stopwords.words('english'))"
   ]
  },
  {
   "cell_type": "markdown",
   "id": "20c2ddb4-e188-4681-80f7-dc8bd24f1be1",
   "metadata": {},
   "source": [
    "### Function to clean tweets"
   ]
  },
  {
   "cell_type": "code",
   "execution_count": 22,
   "id": "8cce86d2-df0f-44ba-a67a-d259d7611598",
   "metadata": {},
   "outputs": [],
   "source": [
    "def clean_tweet(text):\n",
    "    # Convert to lowercase\n",
    "    text = text.lower()\n",
    "\n",
    "    # Remove URLs\n",
    "    text = re.sub(r'http\\S+|www\\S+', '', text)\n",
    "\n",
    "    # Remove mentions and hashtags\n",
    "    text = re.sub(r'@\\w+|#\\w+', '', text)\n",
    "\n",
    "    # Remove special characters, numbers, and extra spaces\n",
    "    text = re.sub(r'[^a-z\\s]', '', text)\n",
    "\n",
    "    # Tokenize words\n",
    "    words = word_tokenize(text)\n",
    "\n",
    "    # Remove stopwords and apply lemmatization\n",
    "    cleaned_words = [lemmatizer.lemmatize(word) for word in words if word not in stop_words]\n",
    "\n",
    "    # Join words back into a sentence\n",
    "    return ' '.join(cleaned_words)"
   ]
  },
  {
   "cell_type": "markdown",
   "id": "d0497cf3-0dec-4953-8290-49faaf932f64",
   "metadata": {},
   "source": [
    "### Apply cleaning function to the 'Tweets' column"
   ]
  },
  {
   "cell_type": "code",
   "execution_count": 23,
   "id": "57fd5e54-e05e-4121-8cdf-97f53824574a",
   "metadata": {},
   "outputs": [],
   "source": [
    "data['Cleaned_Tweets'] = data['Tweets'].apply(clean_tweet)"
   ]
  },
  {
   "cell_type": "markdown",
   "id": "da66f337-11ee-4b89-9935-7669a04c73ac",
   "metadata": {},
   "source": [
    "#### Show sample cleaned tweets"
   ]
  },
  {
   "cell_type": "code",
   "execution_count": 24,
   "id": "912299b6-a05d-47d5-8f86-8d02f9ad7b7e",
   "metadata": {},
   "outputs": [
    {
     "name": "stdout",
     "output_type": "stream",
     "text": [
      "                                              Tweets  \\\n",
      "0                                               TRUE   \n",
      "1  zoom in and see the title of the compendium ti...   \n",
      "2  zombie no go go unless you tell am to go\\nzomb...   \n",
      "3                   zlatan lagos anthem\\n\\n live via   \n",
      "4                   zinoleesky rocking \\n\\n live via   \n",
      "\n",
      "                                      Cleaned_Tweets  \n",
      "0                                               true  \n",
      "1  zoom see title compendium tinubu given yesterd...  \n",
      "2  zombie go go unless tell go zombie go think un...  \n",
      "3                       zlatan lagos anthem live via  \n",
      "4                        zinoleesky rocking live via  \n"
     ]
    }
   ],
   "source": [
    "print(data[['Tweets', 'Cleaned_Tweets']].head())"
   ]
  },
  {
   "cell_type": "markdown",
   "id": "505aa8b4-8db8-4a89-9813-4541b45bcda6",
   "metadata": {},
   "source": [
    "#### Dropping intitail \"Tweet\" column"
   ]
  },
  {
   "cell_type": "code",
   "execution_count": 25,
   "id": "465a8bfa-1eab-47d0-87f4-903354812c78",
   "metadata": {},
   "outputs": [],
   "source": [
    "data = data.drop(columns=['Tweets'])"
   ]
  },
  {
   "cell_type": "markdown",
   "id": "39222278-5638-4f89-a109-c5a0ed66c78f",
   "metadata": {},
   "source": [
    "#### Dropping intitail \"Tweet\" column"
   ]
  },
  {
   "cell_type": "markdown",
   "id": "c86d11c2-fd52-4376-8419-0035c72085dc",
   "metadata": {},
   "source": [
    "Ensure 'Cleaned_Tweets' is treated as a string and handle NaN values"
   ]
  },
  {
   "cell_type": "code",
   "execution_count": 26,
   "id": "64baba68-383a-4aed-96d2-b5594db97f9e",
   "metadata": {},
   "outputs": [],
   "source": [
    "data['Cleaned_Tweets'] = data['Cleaned_Tweets'].fillna('').astype(str)"
   ]
  },
  {
   "cell_type": "markdown",
   "id": "5c99056e-f1f5-4498-afd2-cac095f7dbcd",
   "metadata": {},
   "source": [
    "#### Save cleaned dataset"
   ]
  },
  {
   "cell_type": "code",
   "execution_count": 27,
   "id": "3da69d96-9610-416a-8e6f-9c399cde4142",
   "metadata": {},
   "outputs": [
    {
     "name": "stdout",
     "output_type": "stream",
     "text": [
      "✅ Text normalization completed! Cleaned dataset saved.\n"
     ]
    }
   ],
   "source": [
    "cleaned_file_path = r\"C:\\Users\\ICT\\Desktop\\300lvl 2nd SEM\\Machine Learning\\Progress\\normalized_election_dataset.csv\"\n",
    "data.to_csv(cleaned_file_path, index=False)\n",
    "\n",
    "print(\"✅ Text normalization completed! Cleaned dataset saved.\")"
   ]
  },
  {
   "cell_type": "markdown",
   "id": "1a3e7bdf-2cc9-4b88-be31-34c8239c02ce",
   "metadata": {},
   "source": [
    "# STEP F: Feature Engineering and Selection\n",
    "\n",
    "\n",
    "### Step I: Engineer meaningful features\n",
    "\n",
    "Since we have already preprocessed and normalized our tweet data, we can extract new, potentially useful features. Here are a few common feature engineering ideas for text-based sentiment/election prediction tasks based on research:\n",
    "\n",
    "#### Potential New Features:\n",
    " `Tweet Length` – Number of characters or words.\n",
    "\n",
    " `Word Count` – Total number of words.\n",
    "\n",
    " `Sentiment Score` – Using tools like TextBlob or VADER.\n",
    "\n",
    " `Lexical Diversity` – Unique words / total words.\n",
    "\n",
    " `Part-of-Speech Ratios` – Ratio of nouns, verbs, adjectives.\n",
    "\n",
    " `Keyword Flags` – Presence of political keywords (e.g., \"tinubu\", \"atiku\", \"obi\")."
   ]
  },
  {
   "cell_type": "markdown",
   "id": "3966f7c8-519f-4766-b638-453245f74116",
   "metadata": {},
   "source": [
    "# Adding Engineered Features"
   ]
  },
  {
   "cell_type": "markdown",
   "id": "b76ff0b0-08a5-4f2f-9a0e-70578dcda134",
   "metadata": {},
   "source": [
    " Convert all non-string (e.g., NaN) values to empty string before applying tokenizer"
   ]
  },
  {
   "cell_type": "code",
   "execution_count": 28,
   "id": "ec4e3e56-ad50-4d80-8547-a5052f59425b",
   "metadata": {},
   "outputs": [],
   "source": [
    "data['tokens'] = data['Cleaned_Tweets'].fillna('').astype(str).apply(word_tokenize)"
   ]
  },
  {
   "cell_type": "markdown",
   "id": "025bbac3-608c-4700-9181-f3357f9ff1a9",
   "metadata": {},
   "source": [
    "#### Loading Data"
   ]
  },
  {
   "cell_type": "code",
   "execution_count": 29,
   "id": "df6966a3-cdbc-4d3f-b00a-a0c6be52f2d8",
   "metadata": {},
   "outputs": [],
   "source": [
    "data = pd.read_csv('normalized_election_dataset.csv')"
   ]
  },
  {
   "cell_type": "markdown",
   "id": "d4d589f6-03fe-48e2-a518-1d6ee3779b40",
   "metadata": {},
   "source": [
    "#### Word tokens for each tweet"
   ]
  },
  {
   "cell_type": "markdown",
   "id": "5a009408-94d8-4b63-9bd0-cf8c440accc7",
   "metadata": {},
   "source": [
    "##### 1. Tweet Length (in characters)"
   ]
  },
  {
   "cell_type": "code",
   "execution_count": 30,
   "id": "fcb87495-5429-4382-be9f-f3e6c0fea391",
   "metadata": {},
   "outputs": [],
   "source": [
    "data['tweet_length'] = data['Cleaned_Tweets'].apply(lambda x: len(str(x)))"
   ]
  },
  {
   "cell_type": "markdown",
   "id": "9bd5e38c-14a6-46fb-aeab-57b391ce762e",
   "metadata": {},
   "source": [
    "##### 2. Word Count"
   ]
  },
  {
   "cell_type": "code",
   "execution_count": 31,
   "id": "0b02d070-758d-4dc0-9088-45cb5e99013d",
   "metadata": {},
   "outputs": [],
   "source": [
    "data['word_count'] = data['Cleaned_Tweets'].apply(lambda x: len(str(x).split()))"
   ]
  },
  {
   "cell_type": "markdown",
   "id": "67738e7c-a848-413d-a49c-ce5acb07c429",
   "metadata": {},
   "source": [
    "##### 3. Sentiment Score (VADER (good for social media))"
   ]
  },
  {
   "cell_type": "code",
   "execution_count": 32,
   "id": "df0570df-0e89-43c2-af02-0973fca5bf6e",
   "metadata": {},
   "outputs": [],
   "source": [
    "sia = SentimentIntensityAnalyzer()\n",
    "\n",
    "def vader_sentiment(text):\n",
    "    if pd.isna(text):\n",
    "        return 0\n",
    "    return sia.polarity_scores(text)['compound']\n",
    "\n",
    "data['vader_sentiment'] = data['Cleaned_Tweets'].apply(vader_sentiment)"
   ]
  },
  {
   "cell_type": "markdown",
   "id": "5a04e06e-c60f-4a2b-b011-43d6584d542a",
   "metadata": {},
   "source": [
    "##### 4. Lexical Diversity"
   ]
  },
  {
   "cell_type": "code",
   "execution_count": 33,
   "id": "b306ef65-c834-4888-b872-8e7e482f7fb2",
   "metadata": {},
   "outputs": [],
   "source": [
    "def lexical_diversity(text):\n",
    "    words = str(text).split()\n",
    "    return len(set(words)) / len(words) if len(words) > 0 else 0\n",
    "\n",
    "data['lexical_diversity'] = data['Cleaned_Tweets'].apply(lexical_diversity)"
   ]
  },
  {
   "cell_type": "markdown",
   "id": "8050a20b-f7c3-4856-8625-2256eab69d00",
   "metadata": {},
   "source": [
    "##### 5. Part-of-Speech Ratios"
   ]
  },
  {
   "cell_type": "code",
   "execution_count": 34,
   "id": "93ce7234-d52f-44eb-8197-fef7dff1288d",
   "metadata": {},
   "outputs": [],
   "source": [
    "def pos_ratios(text):\n",
    "    try:\n",
    "        tokens = nltk.word_tokenize(str(text))\n",
    "        tags = nltk.pos_tag(tokens)\n",
    "        total = len(tags)\n",
    "        if total == 0:\n",
    "            return pd.Series([0, 0, 0])\n",
    "        noun_ratio = len([t for t in tags if t[1].startswith('NN')]) / total\n",
    "        verb_ratio = len([t for t in tags if t[1].startswith('VB')]) / total\n",
    "        adj_ratio = len([t for t in tags if t[1].startswith('JJ')]) / total\n",
    "        return pd.Series([noun_ratio, verb_ratio, adj_ratio])\n",
    "    except:\n",
    "        return pd.Series([0, 0, 0])\n",
    "\n",
    "data[['noun_ratio', 'verb_ratio', 'adj_ratio']] = data['Cleaned_Tweets'].apply(pos_ratios)"
   ]
  },
  {
   "cell_type": "markdown",
   "id": "2938e6c5-c34d-472c-8627-6287d225a3af",
   "metadata": {},
   "source": [
    "##### 6. Keyword Flags"
   ]
  },
  {
   "cell_type": "code",
   "execution_count": 35,
   "id": "480a9999-9b98-46a2-a2e6-56a49ecb1f4b",
   "metadata": {},
   "outputs": [],
   "source": [
    "keywords = [\n",
    "    'tinubu', 'apc',\n",
    "    'atiku', 'pdp',\n",
    "    'obi', 'lp', 'labour party',\n",
    "    'kwankwaso', 'nnpp'\n",
    "]\n",
    "\n",
    "for kw in keywords:\n",
    "    data[f'contains_{kw}'] = data['Cleaned_Tweets'].apply(lambda x: int(kw in str(x).lower()))"
   ]
  },
  {
   "cell_type": "code",
   "execution_count": 36,
   "id": "20a87e85-8f6b-444a-982e-b76d32e3ade4",
   "metadata": {},
   "outputs": [
    {
     "name": "stdout",
     "output_type": "stream",
     "text": [
      "  Language  Number of Likes  Number of Retweets  \\\n",
      "0       en                0                   0   \n",
      "1       en                3                   0   \n",
      "2       en                0                   0   \n",
      "3       en                1                   0   \n",
      "4       en                0                   0   \n",
      "\n",
      "                                      Cleaned_Tweets  tweet_length  \\\n",
      "0                                               true             4   \n",
      "1  zoom see title compendium tinubu given yesterd...           134   \n",
      "2  zombie go go unless tell go zombie go think un...           101   \n",
      "3                       zlatan lagos anthem live via            28   \n",
      "4                        zinoleesky rocking live via            27   \n",
      "\n",
      "   word_count  vader_sentiment  lexical_diversity  noun_ratio  verb_ratio  \\\n",
      "0           1           0.4215               1.00    0.000000    0.000000   \n",
      "1          20          -0.2023               0.95    0.450000    0.200000   \n",
      "2          18           0.0000               0.50    0.333333    0.277778   \n",
      "3           5           0.0000               1.00    0.200000    0.200000   \n",
      "4           4           0.0000               1.00    0.250000    0.250000   \n",
      "\n",
      "   adj_ratio  contains_tinubu  contains_apc  contains_atiku  contains_pdp  \\\n",
      "0   1.000000                0             0               0             0   \n",
      "1   0.250000                1             0               0             0   \n",
      "2   0.111111                0             0               0             0   \n",
      "3   0.400000                0             0               0             0   \n",
      "4   0.250000                0             0               0             0   \n",
      "\n",
      "   contains_obi  contains_lp  contains_labour party  contains_kwankwaso  \\\n",
      "0             0            0                      0                   0   \n",
      "1             1            0                      1                   0   \n",
      "2             0            0                      0                   0   \n",
      "3             0            0                      0                   0   \n",
      "4             0            0                      0                   0   \n",
      "\n",
      "   contains_nnpp  \n",
      "0              0  \n",
      "1              0  \n",
      "2              0  \n",
      "3              0  \n",
      "4              0  \n"
     ]
    }
   ],
   "source": [
    "print(data.head())"
   ]
  },
  {
   "cell_type": "markdown",
   "id": "93978bdc-683b-4f40-9169-1f976cf17bda",
   "metadata": {},
   "source": [
    "## Step II: Select the most relevant features"
   ]
  },
  {
   "cell_type": "markdown",
   "id": "40058268-b336-47d7-85e9-01fc109ce9f0",
   "metadata": {},
   "source": [
    "# Why it's PCA-Ready:\n",
    "You already have a wide range of numeric features, including:\n",
    "\n",
    "`Number of Likes, Number of Retweets`\n",
    "\n",
    "`tweet_length, word_count`\n",
    "\n",
    "`sentiment_score, vader_sentiment`\n",
    "\n",
    "`lexical_diversity, noun_ratio, verb_ratio, adj_ratio`\n",
    "\n",
    "`Binary keyword flags like contains_tinubu, contains_apc, etc.`\n",
    "\n",
    "These are all numerical or binary, which PCA can handle (after scaling).\n",
    "\n",
    "\n",
    "# What to exclude before PCA:\n",
    "- Text columns like Cleaned_Tweets – PCA doesn’t work on raw text.\n",
    "\n",
    "- Language – a categorical/text column.\n",
    "\n",
    "- Any non-numeric metadata."
   ]
  },
  {
   "cell_type": "markdown",
   "id": "1101a596-a41e-49dd-ad34-d7c5a121ff5d",
   "metadata": {},
   "source": [
    "### 1. Selecting the relevant columns (numerical & binary features)"
   ]
  },
  {
   "cell_type": "code",
   "execution_count": 37,
   "id": "ea50302a-deb9-4846-a489-c1a9d3f7a0c3",
   "metadata": {},
   "outputs": [],
   "source": [
    "features = [\n",
    "    'Number of Likes', 'Number of Retweets', 'tweet_length', 'word_count', \n",
    "    'vader_sentiment', 'lexical_diversity', 'noun_ratio', \n",
    "    'verb_ratio', 'adj_ratio', 'contains_tinubu', 'contains_apc', 'contains_atiku',\n",
    "    'contains_obi', 'contains_lp', 'contains_labour party', 'contains_kwankwaso', \n",
    "    'contains_nnpp'\n",
    "]"
   ]
  },
  {
   "cell_type": "code",
   "execution_count": 38,
   "id": "6b971db7-b3f9-4cdf-ac63-dc700e42616f",
   "metadata": {},
   "outputs": [],
   "source": [
    "X = data[features]"
   ]
  },
  {
   "cell_type": "markdown",
   "id": "34378c5e-ee5b-46af-8710-ed27a1e43a84",
   "metadata": {},
   "source": [
    "### 2. Standardize the features"
   ]
  },
  {
   "cell_type": "code",
   "execution_count": 39,
   "id": "46e89288-b79c-4d76-b7bb-05d6fe063828",
   "metadata": {},
   "outputs": [],
   "source": [
    "scaler = StandardScaler()"
   ]
  },
  {
   "cell_type": "code",
   "execution_count": 40,
   "id": "d5275f6d-04a8-499a-8566-1123afe37975",
   "metadata": {},
   "outputs": [],
   "source": [
    "X_scaled = scaler.fit_transform(X)"
   ]
  },
  {
   "cell_type": "markdown",
   "id": "a207e857-4076-4b70-8f35-15e35b0a7c14",
   "metadata": {},
   "source": [
    "### 3. Apply PCA to explore explained variance"
   ]
  },
  {
   "cell_type": "code",
   "execution_count": 41,
   "id": "c40b9b15-c1c0-4bde-a66f-a6f68c1c2d11",
   "metadata": {},
   "outputs": [],
   "source": [
    "pca = PCA()"
   ]
  },
  {
   "cell_type": "code",
   "execution_count": 42,
   "id": "3a143e3b-78f8-42c1-8117-69ebc6be0095",
   "metadata": {},
   "outputs": [],
   "source": [
    "X_pca = pca.fit_transform(X_scaled)"
   ]
  },
  {
   "cell_type": "markdown",
   "id": "2a6c2bde-3b6e-4a85-8d3f-a4ff64fac96d",
   "metadata": {},
   "source": [
    "### 4. Plotting the explained variance to see how much each component explains"
   ]
  },
  {
   "cell_type": "code",
   "execution_count": 43,
   "id": "2a165c87-7b80-4e3c-bbcf-8602810f9307",
   "metadata": {},
   "outputs": [
    {
     "data": {
      "image/png": "[encoded data removed]",
      "text/plain": [
       "<Figure size 1000x600 with 1 Axes>"
      ]
     },
     "metadata": {},
     "output_type": "display_data"
    }
   ],
   "source": [
    "plt.figure(figsize=(10, 6))\n",
    "sns.lineplot(x=range(1, len(pca.explained_variance_ratio_)+1), y=pca.explained_variance_ratio_, marker='o')\n",
    "plt.title('Explained Variance by Each Principal Component')\n",
    "plt.xlabel('Principal Component')\n",
    "plt.ylabel('Explained Variance Ratio')\n",
    "plt.show()"
   ]
  },
  {
   "cell_type": "markdown",
   "id": "65d0d742-a500-42c6-8488-1982cda95106",
   "metadata": {},
   "source": [
    "### 5. Reduce dimensionality to 2 or 3 components (for modeling or visualization)"
   ]
  },
  {
   "cell_type": "code",
   "execution_count": 44,
   "id": "b79aae76-469c-4a97-aa04-ffa90874f5c5",
   "metadata": {},
   "outputs": [],
   "source": [
    "pca_2d = PCA(n_components=2)"
   ]
  },
  {
   "cell_type": "code",
   "execution_count": 45,
   "id": "1ae5f729-06da-45f4-b25a-b8fd0c867be0",
   "metadata": {},
   "outputs": [],
   "source": [
    "X_pca_2d = pca_2d.fit_transform(X_scaled)"
   ]
  },
  {
   "cell_type": "code",
   "execution_count": 46,
   "id": "300d261d-970a-420f-9e40-05474203dd72",
   "metadata": {},
   "outputs": [],
   "source": [
    "pca_3d = PCA(n_components=3)"
   ]
  },
  {
   "cell_type": "code",
   "execution_count": 47,
   "id": "9e91a8f5-bc5c-4381-b122-5f3a2dc3fc69",
   "metadata": {},
   "outputs": [],
   "source": [
    "X_pca_3d = pca_3d.fit_transform(X_scaled)"
   ]
  },
  {
   "cell_type": "markdown",
   "id": "cc1dde1e-458f-4e77-8338-75579fa65562",
   "metadata": {},
   "source": [
    "### Plotting a 2D PCA"
   ]
  },
  {
   "cell_type": "code",
   "execution_count": 48,
   "id": "dfb072ed-adf9-4445-8378-e14f63c461ef",
   "metadata": {},
   "outputs": [
    {
     "data": {
      "image/png": "[encoded data removed]",
      "text/plain": [
       "<Figure size 800x600 with 1 Axes>"
      ]
     },
     "metadata": {},
     "output_type": "display_data"
    }
   ],
   "source": [
    "plt.figure(figsize=(8, 6))\n",
    "sns.scatterplot(x=X_pca_2d[:, 0], y=X_pca_2d[:, 1])\n",
    "plt.title('2D PCA')\n",
    "plt.xlabel('Principal Component 1')\n",
    "plt.ylabel('Principal Component 2')\n",
    "plt.show()"
   ]
  },
  {
   "cell_type": "code",
   "execution_count": 49,
   "id": "4981f78f-2844-4993-86b9-eef38c228777",
   "metadata": {},
   "outputs": [],
   "source": [
    "###  Plotting PCA in 3D:"
   ]
  },
  {
   "cell_type": "code",
   "execution_count": 50,
   "id": "d036d1ea-8959-4572-bbf1-ef7c4d373e33",
   "metadata": {},
   "outputs": [
    {
     "data": {
      "image/png": "[encoded data removed]",
      "text/plain": [
       "<Figure size 1000x800 with 1 Axes>"
      ]
     },
     "metadata": {},
     "output_type": "display_data"
    }
   ],
   "source": [
    "from mpl_toolkits.mplot3d import Axes3D\n",
    "fig = plt.figure(figsize=(10, 8))\n",
    "ax = fig.add_subplot(111, projection='3d')\n",
    "ax.scatter(X_pca_3d[:, 0], X_pca_3d[:, 1], X_pca_3d[:, 2])\n",
    "ax.set_title('3D PCA')\n",
    "ax.set_xlabel('Principal Component 1')\n",
    "ax.set_ylabel('Principal Component 2')\n",
    "ax.set_zlabel('Principal Component 3')\n",
    "plt.show()"
   ]
  },
  {
   "cell_type": "markdown",
   "id": "21235c57-1bda-4b78-bf95-68808b668d11",
   "metadata": {},
   "source": [
    "# STEP G: DATA LABELLING: VADER Sentiment Intensity Analyzer\n",
    "Trainning a simple Python rule-based classifier using VADER Sentiment Intensity Analyzer to classify each tweet as:\n",
    ">positive\n",
    "\n",
    ">negative\n",
    "\n",
    ">neutral"
   ]
  },
  {
   "cell_type": "markdown",
   "id": "20553d19-4afe-4743-97a8-37f6f5dec67f",
   "metadata": {},
   "source": [
    "### Downloading VADER"
   ]
  },
  {
   "cell_type": "code",
   "execution_count": 51,
   "id": "522b487c-b0ca-4416-8d11-3cc59a94389f",
   "metadata": {},
   "outputs": [
    {
     "name": "stderr",
     "output_type": "stream",
     "text": [
      "[nltk_data] Error loading vader_lexicon: <urlopen error [Errno 11001]\n",
      "[nltk_data]     getaddrinfo failed>\n"
     ]
    },
    {
     "data": {
      "text/plain": [
       "False"
      ]
     },
     "execution_count": 51,
     "metadata": {},
     "output_type": "execute_result"
    }
   ],
   "source": [
    "nltk.download('vader_lexicon')"
   ]
  },
  {
   "cell_type": "markdown",
   "id": "e8f0c647-f769-400a-a0cd-dd3fbbe2200b",
   "metadata": {},
   "source": [
    "### Load dataset"
   ]
  },
  {
   "cell_type": "code",
   "execution_count": 52,
   "id": "3b7db9ee-9d55-4686-9b22-ced17197beb7",
   "metadata": {},
   "outputs": [],
   "source": [
    "data = pd.read_csv('tweets_to_label.csv')"
   ]
  },
  {
   "cell_type": "markdown",
   "id": "836d2191-9626-484f-a95b-ad691b4c541d",
   "metadata": {},
   "source": [
    "### Initialize sentiment analyzer"
   ]
  },
  {
   "cell_type": "code",
   "execution_count": 53,
   "id": "98777610-14d3-4ace-b1ff-522781cfe399",
   "metadata": {},
   "outputs": [],
   "source": [
    "sid = SentimentIntensityAnalyzer()"
   ]
  },
  {
   "cell_type": "markdown",
   "id": "28d38da8-3d99-4bba-8069-3de7e5385afb",
   "metadata": {},
   "source": [
    "### Function to assign sentiment based on VADER compound score"
   ]
  },
  {
   "cell_type": "code",
   "execution_count": 54,
   "id": "82859808-739c-4561-a4eb-8b1718eb85e0",
   "metadata": {},
   "outputs": [],
   "source": [
    "def get_sentiment(text):\n",
    "    if pd.isna(text) or text.strip() == '':\n",
    "        return 'neutral'\n",
    "    score = sid.polarity_scores(text)['compound']\n",
    "    if score >= 0.05:\n",
    "        return 'positive'\n",
    "    elif score <= -0.05:\n",
    "        return 'negative'\n",
    "    else:\n",
    "        return 'neutral'"
   ]
  },
  {
   "cell_type": "markdown",
   "id": "c6d12a7c-9b4d-4b4d-949c-60b888e3fb82",
   "metadata": {},
   "source": [
    "### Apply sentiment analysis to Cleaned_Tweets"
   ]
  },
  {
   "cell_type": "code",
   "execution_count": 55,
   "id": "a79adf06-b601-45d3-9998-3d1e39179577",
   "metadata": {},
   "outputs": [],
   "source": [
    "data['sentiment_label'] = data['Cleaned_Tweets'].apply(get_sentiment)"
   ]
  },
  {
   "cell_type": "markdown",
   "id": "c58c0e13-387c-4fed-b618-febb4da348ef",
   "metadata": {},
   "source": [
    "### Save labeled dataset"
   ]
  },
  {
   "cell_type": "code",
   "execution_count": 56,
   "id": "536667f5-2591-4816-9692-9e4e02728c84",
   "metadata": {},
   "outputs": [
    {
     "name": "stdout",
     "output_type": "stream",
     "text": [
      "Sentiment labeling complete! Saved to labeled_sentiment_dataset.csv ✅\n"
     ]
    }
   ],
   "source": [
    "data.to_csv('labeled_sentiment_dataset.csv', index=False)\n",
    "print(\"Sentiment labeling complete! Saved to labeled_sentiment_dataset.csv ✅\")"
   ]
  },
  {
   "cell_type": "markdown",
   "id": "091c6e94-1633-4f55-8e2d-7d429f273d9f",
   "metadata": {},
   "source": [
    "### Previewing data heads"
   ]
  },
  {
   "cell_type": "code",
   "execution_count": 57,
   "id": "8b819bff-56cb-4c23-a0aa-2d8332cc2e36",
   "metadata": {},
   "outputs": [
    {
     "name": "stdout",
     "output_type": "stream",
     "text": [
      "  Language  Number of Likes  Number of Retweets  \\\n",
      "0       en                0                   0   \n",
      "1       en                3                   0   \n",
      "2       en                0                   0   \n",
      "3       en                1                   0   \n",
      "4       en                0                   0   \n",
      "\n",
      "                                      Cleaned_Tweets  tweet_length  \\\n",
      "0                                               TRUE             4   \n",
      "1  zoom see title compendium tinubu given yesterd...           134   \n",
      "2  zombie go go unless tell go zombie go think un...           101   \n",
      "3                       zlatan lagos anthem live via            28   \n",
      "4                        zinoleesky rocking live via            27   \n",
      "\n",
      "   word_count  vader_sentiment  lexical_diversity  noun_ratio  verb_ratio  \\\n",
      "0           1           0.4215               1.00    0.000000    0.000000   \n",
      "1          20          -0.2023               0.95    0.450000    0.200000   \n",
      "2          18           0.0000               0.50    0.333333    0.277778   \n",
      "3           5           0.0000               1.00    0.200000    0.200000   \n",
      "4           4           0.0000               1.00    0.250000    0.250000   \n",
      "\n",
      "   ...  contains_tinubu  contains_apc  contains_atiku  contains_pdp  \\\n",
      "0  ...                0             0               0             0   \n",
      "1  ...                1             0               0             0   \n",
      "2  ...                0             0               0             0   \n",
      "3  ...                0             0               0             0   \n",
      "4  ...                0             0               0             0   \n",
      "\n",
      "   contains_obi  contains_lp  contains_labour party  contains_kwankwaso  \\\n",
      "0             0            0                      0                   0   \n",
      "1             1            0                      1                   0   \n",
      "2             0            0                      0                   0   \n",
      "3             0            0                      0                   0   \n",
      "4             0            0                      0                   0   \n",
      "\n",
      "   contains_nnpp  sentiment_label  \n",
      "0              0         positive  \n",
      "1              0         negative  \n",
      "2              0          neutral  \n",
      "3              0          neutral  \n",
      "4              0          neutral  \n",
      "\n",
      "[5 rows x 21 columns]\n"
     ]
    }
   ],
   "source": [
    "print(data.head())"
   ]
  },
  {
   "cell_type": "markdown",
   "id": "c8b71a30-80d5-4384-9cca-33657061199b",
   "metadata": {},
   "source": [
    "# STEP H: Model Development"
   ]
  },
  {
   "cell_type": "markdown",
   "id": "39db790e-e3e4-47eb-a5f1-45b91ef257d2",
   "metadata": {},
   "source": [
    "### 1. Data Preparation (Preprocessing)\n",
    "Before training models:\n",
    "- Drop unused or irrelevant columns if needed\n",
    "- Handle missing values (if any).\n",
    "- Encode categorical labels (e.g., convert sentiment_label to numbers: positive = 1, negative = -1, neutral = 0).\n"
   ]
  },
  {
   "cell_type": "markdown",
   "id": "85a17742-e5c7-42b0-86b5-0679e68aed1f",
   "metadata": {},
   "source": [
    "### Load your dataset"
   ]
  },
  {
   "cell_type": "code",
   "execution_count": 58,
   "id": "7cbacd5f-af36-4444-97c6-6475a6361d36",
   "metadata": {},
   "outputs": [],
   "source": [
    "data = pd.read_csv('labeled_sentiment_dataset.csv')"
   ]
  },
  {
   "cell_type": "markdown",
   "id": "beb84f05-10dd-4937-98fe-2b1aa7b2030c",
   "metadata": {},
   "source": [
    "### Dropping rows with missing sentiment_label or Cleaned_Tweets if any"
   ]
  },
  {
   "cell_type": "code",
   "execution_count": 59,
   "id": "b2939415-9538-4618-bb9a-7dd74f0abf62",
   "metadata": {},
   "outputs": [],
   "source": [
    "data.dropna(subset=['Cleaned_Tweets', 'sentiment_label'], inplace=True)"
   ]
  },
  {
   "cell_type": "markdown",
   "id": "684cd1f0-3efe-405e-9e56-69ebce1ec7a3",
   "metadata": {},
   "source": [
    "### Encode sentiment_label (categorical to numeric)"
   ]
  },
  {
   "cell_type": "code",
   "execution_count": 60,
   "id": "7624a44c-a739-4534-bc3d-5876a1b8e2e2",
   "metadata": {},
   "outputs": [],
   "source": [
    "label_mapping = {\n",
    "    'positive': 1,\n",
    "    'neutral': 0,\n",
    "    'negative': -1\n",
    "}\n",
    "data['sentiment_label_encoded'] = data['sentiment_label'].map(label_mapping)"
   ]
  },
  {
   "cell_type": "markdown",
   "id": "d817f185-d52f-4289-ab0f-ad5bf38c1201",
   "metadata": {},
   "source": [
    "`positive':` 1,\n",
    "    `'neutral':` 0,\n",
    "    `'negative':` -1"
   ]
  },
  {
   "cell_type": "markdown",
   "id": "7719bb55-a03e-4d10-9b91-8c2ddd186a50",
   "metadata": {},
   "source": [
    "### Features and target separation"
   ]
  },
  {
   "cell_type": "code",
   "execution_count": 61,
   "id": "3de4d331-182c-431d-9af2-e7e289eaeaae",
   "metadata": {},
   "outputs": [],
   "source": [
    "X = data['Cleaned_Tweets']\n",
    "y = data['sentiment_label_encoded']"
   ]
  },
  {
   "cell_type": "markdown",
   "id": "d1613a50-c027-468e-9b25-d082afc05fe0",
   "metadata": {},
   "source": [
    "### Show the shape and head of X and y##"
   ]
  },
  {
   "cell_type": "code",
   "execution_count": 62,
   "id": "90adc25e-b37e-4c54-a98c-4bb2b2a21267",
   "metadata": {},
   "outputs": [
    {
     "name": "stdout",
     "output_type": "stream",
     "text": [
      "Features shape: (403543,)\n",
      "Target shape: (403543,)\n",
      "Sample data:\n",
      "                                       Cleaned_Tweets  sentiment_label_encoded\n",
      "0                                               TRUE                        1\n",
      "1  zoom see title compendium tinubu given yesterd...                       -1\n",
      "2  zombie go go unless tell go zombie go think un...                        0\n",
      "3                       zlatan lagos anthem live via                        0\n",
      "4                        zinoleesky rocking live via                        0\n"
     ]
    }
   ],
   "source": [
    "print(\"Features shape:\", X.shape)\n",
    "print(\"Target shape:\", y.shape)\n",
    "print(\"Sample data:\\n\", pd.concat([X.head(), y.head()], axis=1))"
   ]
  },
  {
   "cell_type": "markdown",
   "id": "f48217b4-75e2-4510-9a2c-35e8edfb522b",
   "metadata": {},
   "source": [
    "### Splitting data into features (X) and target (y).\n",
    "Split data into trainning(x) and test(y) sets (80% train, 20% test)"
   ]
  },
  {
   "cell_type": "code",
   "execution_count": 63,
   "id": "cc779a79-abd2-4ab7-b79f-a044b914115f",
   "metadata": {},
   "outputs": [],
   "source": [
    "X_train, X_test, y_train, y_test = train_test_split(\n",
    "    X, y, test_size=0.2, random_state=42, stratify=y\n",
    ")"
   ]
  },
  {
   "cell_type": "code",
   "execution_count": 64,
   "id": "3c48482e-8d02-47c7-ab06-eeee2d9eccf4",
   "metadata": {},
   "outputs": [
    {
     "name": "stdout",
     "output_type": "stream",
     "text": [
      "Training data shape: (322834,)\n",
      "Testing data shape: (80709,)\n"
     ]
    }
   ],
   "source": [
    "print(\"Training data shape:\", X_train.shape)\n",
    "print(\"Testing data shape:\", X_test.shape)"
   ]
  },
  {
   "cell_type": "markdown",
   "id": "1e0f3c63-3daa-49bd-b7c0-44ea7bd025e5",
   "metadata": {},
   "source": [
    "`test_size=0.2` means 20% of the data goes to testing, 80% for training.\n",
    "\n",
    "`stratify=y` ensures that the distribution of sentiment labels is preserved in both training and testing sets.\n",
    "\n",
    "`random_state=42` makes sure the split is reproducible."
   ]
  },
  {
   "cell_type": "code",
   "execution_count": 65,
   "id": "5fca8a7b-3dfb-4e82-a105-b9fa06288f36",
   "metadata": {},
   "outputs": [
    {
     "name": "stdout",
     "output_type": "stream",
     "text": [
      "300490                           needed vote capacity jonze\n",
      "38750     idea difficult would peter without men side no...\n",
      "125114    happy birthday great leader wishing many healt...\n",
      "109173      eye judiciary eye judiciary eye judiciary focus\n",
      "363519                                            wan leave\n",
      "Name: Cleaned_Tweets, dtype: object\n"
     ]
    }
   ],
   "source": [
    "print(X_train.head())"
   ]
  },
  {
   "cell_type": "markdown",
   "id": "3feafbcc-c7ab-4374-904e-490b001650b3",
   "metadata": {},
   "source": [
    "### Initialize vectorizer"
   ]
  },
  {
   "cell_type": "code",
   "execution_count": 66,
   "id": "f137a6e2-3567-454d-89f4-dd0e709151af",
   "metadata": {},
   "outputs": [],
   "source": [
    "tfidf = TfidfVectorizer(max_features=5000) "
   ]
  },
  {
   "cell_type": "markdown",
   "id": "29b84028-f379-4657-b443-a9b3d3f28d64",
   "metadata": {},
   "source": [
    "`max_features`=5000 means:\n",
    "- Keep only the top 5,000 most important words (based on frequency).\n",
    "- Ignore rare words or ones that don’t add much value."
   ]
  },
  {
   "cell_type": "markdown",
   "id": "05606eea-29b5-4eed-9777-fbc0592422b2",
   "metadata": {},
   "source": [
    "### Fit and transform training data, transform test data"
   ]
  },
  {
   "cell_type": "code",
   "execution_count": 67,
   "id": "ec2e4ddd-9477-43f3-98b8-9cef827df64d",
   "metadata": {},
   "outputs": [],
   "source": [
    "X_train_tfidf = tfidf.fit_transform(X_train)\n",
    "X_test_tfidf = tfidf.transform(X_test)"
   ]
  },
  {
   "cell_type": "code",
   "execution_count": 68,
   "id": "a3e856a0-f2eb-4cf8-9e2c-749a940a4f22",
   "metadata": {},
   "outputs": [
    {
     "name": "stdout",
     "output_type": "stream",
     "text": [
      "TF-IDF training data shape: (322834, 5000)\n",
      "TF-IDF test data shape: (80709, 5000)\n"
     ]
    }
   ],
   "source": [
    "print(\"TF-IDF training data shape:\", X_train_tfidf.shape)\n",
    "print(\"TF-IDF test data shape:\", X_test_tfidf.shape)"
   ]
  },
  {
   "cell_type": "markdown",
   "id": "245223a2-0e47-4f35-94a5-6871a1ebc905",
   "metadata": {},
   "source": [
    "# STEP G: Model Development\n",
    "### Choosing Appropriate Machine Learning Algorithms\n",
    "Five machine learning algorithms that are commonly used for text-based classification tasks (such as sentiment analysis or election prediction):\n",
    "\n",
    "- **Logistic Regression:** A simple but effective algorithm for binary or multi-class classification tasks.\n",
    "\n",
    "- **Random Forest:** A robust ensemble method that builds multiple decision trees and aggregates their predictions. It’s good for handling overfitting and works well with structured data.\n",
    "\n",
    "- **Support Vector Machine (SVM):** SVM is great for classification tasks, especially in high-dimensional spaces. It finds the hyperplane that best separates the classes.\n",
    "\n",
    "- **Naive Bayes:** A probabilistic classifier based on Bayes' Theorem. It’s particularly good for text classification tasks.\n",
    "\n",
    "- **K-Nearest Neighbors (KNN):** A simple yet effective algorithm that classifies data based on the closest points in the feature space.\n",
    "\n",
    "For this task, we will work with classification models as you’re trying to predict sentiment or political alignment (e.g., whether a tweet is related to a particular candidate)."
   ]
  },
  {
   "cell_type": "markdown",
   "id": "d8235fd8-f928-4908-8384-9c5e604defd9",
   "metadata": {},
   "source": [
    "### Logistic Regression (fast, easy to interpret, and often strong on text data)."
   ]
  },
  {
   "cell_type": "markdown",
   "id": "920c9296-3f47-4add-bfce-bb374f8174f8",
   "metadata": {},
   "source": [
    "<div class=\"alert-info\">\n",
    "Model One \n",
    "</div>"
   ]
  },
  {
   "cell_type": "markdown",
   "id": "b4d6ab20-ea6d-4e09-91d4-9f05c778b317",
   "metadata": {},
   "source": [
    "#### Initializing the model"
   ]
  },
  {
   "cell_type": "code",
   "execution_count": 69,
   "id": "5a3a671d-8f95-4df9-aa48-a826c129cf50",
   "metadata": {},
   "outputs": [],
   "source": [
    "lr_model = LogisticRegression(max_iter=1000)"
   ]
  },
  {
   "cell_type": "markdown",
   "id": "05e4e834-c4dc-4631-934f-f3032025331a",
   "metadata": {},
   "source": [
    "#### Fit on training data"
   ]
  },
  {
   "cell_type": "code",
   "execution_count": 70,
   "id": "4ad10a77-f046-4c08-afda-46703a943bf3",
   "metadata": {},
   "outputs": [
    {
     "data": {
      "text/html": [
       "<style>#sk-container-id-1 {\n",
       "  /* Definition of color scheme common for light and dark mode */\n",
       "  --sklearn-color-text: black;\n",
       "  --sklearn-color-line: gray;\n",
       "  /* Definition of color scheme for unfitted estimators */\n",
       "  --sklearn-color-unfitted-level-0: #fff5e6;\n",
       "  --sklearn-color-unfitted-level-1: #f6e4d2;\n",
       "  --sklearn-color-unfitted-level-2: #ffe0b3;\n",
       "  --sklearn-color-unfitted-level-3: chocolate;\n",
       "  /* Definition of color scheme for fitted estimators */\n",
       "  --sklearn-color-fitted-level-0: #f0f8ff;\n",
       "  --sklearn-color-fitted-level-1: #d4ebff;\n",
       "  --sklearn-color-fitted-level-2: #b3dbfd;\n",
       "  --sklearn-color-fitted-level-3: cornflowerblue;\n",
       "\n",
       "  /* Specific color for light theme */\n",
       "  --sklearn-color-text-on-default-background: var(--sg-text-color, var(--theme-code-foreground, var(--jp-content-font-color1, black)));\n",
       "  --sklearn-color-background: var(--sg-background-color, var(--theme-background, var(--jp-layout-color0, white)));\n",
       "  --sklearn-color-border-box: var(--sg-text-color, var(--theme-code-foreground, var(--jp-content-font-color1, black)));\n",
       "  --sklearn-color-icon: #696969;\n",
       "\n",
       "  @media (prefers-color-scheme: dark) {\n",
       "    /* Redefinition of color scheme for dark theme */\n",
       "    --sklearn-color-text-on-default-background: var(--sg-text-color, var(--theme-code-foreground, var(--jp-content-font-color1, white)));\n",
       "    --sklearn-color-background: var(--sg-background-color, var(--theme-background, var(--jp-layout-color0, #111)));\n",
       "    --sklearn-color-border-box: var(--sg-text-color, var(--theme-code-foreground, var(--jp-content-font-color1, white)));\n",
       "    --sklearn-color-icon: #878787;\n",
       "  }\n",
       "}\n",
       "\n",
       "#sk-container-id-1 {\n",
       "  color: var(--sklearn-color-text);\n",
       "}\n",
       "\n",
       "#sk-container-id-1 pre {\n",
       "  padding: 0;\n",
       "}\n",
       "\n",
       "#sk-container-id-1 input.sk-hidden--visually {\n",
       "  border: 0;\n",
       "  clip: rect(1px 1px 1px 1px);\n",
       "  clip: rect(1px, 1px, 1px, 1px);\n",
       "  height: 1px;\n",
       "  margin: -1px;\n",
       "  overflow: hidden;\n",
       "  padding: 0;\n",
       "  position: absolute;\n",
       "  width: 1px;\n",
       "}\n",
       "\n",
       "#sk-container-id-1 div.sk-dashed-wrapped {\n",
       "  border: 1px dashed var(--sklearn-color-line);\n",
       "  margin: 0 0.4em 0.5em 0.4em;\n",
       "  box-sizing: border-box;\n",
       "  padding-bottom: 0.4em;\n",
       "  background-color: var(--sklearn-color-background);\n",
       "}\n",
       "\n",
       "#sk-container-id-1 div.sk-container {\n",
       "  /* jupyter's `normalize.less` sets `[hidden] { display: none; }`\n",
       "     but bootstrap.min.css set `[hidden] { display: none !important; }`\n",
       "     so we also need the `!important` here to be able to override the\n",
       "     default hidden behavior on the sphinx rendered scikit-learn.org.\n",
       "     See: https://github.com/scikit-learn/scikit-learn/issues/21755 */\n",
       "  display: inline-block !important;\n",
       "  position: relative;\n",
       "}\n",
       "\n",
       "#sk-container-id-1 div.sk-text-repr-fallback {\n",
       "  display: none;\n",
       "}\n",
       "\n",
       "div.sk-parallel-item,\n",
       "div.sk-serial,\n",
       "div.sk-item {\n",
       "  /* draw centered vertical line to link estimators */\n",
       "  background-image: linear-gradient(var(--sklearn-color-text-on-default-background), var(--sklearn-color-text-on-default-background));\n",
       "  background-size: 2px 100%;\n",
       "  background-repeat: no-repeat;\n",
       "  background-position: center center;\n",
       "}\n",
       "\n",
       "/* Parallel-specific style estimator block */\n",
       "\n",
       "#sk-container-id-1 div.sk-parallel-item::after {\n",
       "  content: \"\";\n",
       "  width: 100%;\n",
       "  border-bottom: 2px solid var(--sklearn-color-text-on-default-background);\n",
       "  flex-grow: 1;\n",
       "}\n",
       "\n",
       "#sk-container-id-1 div.sk-parallel {\n",
       "  display: flex;\n",
       "  align-items: stretch;\n",
       "  justify-content: center;\n",
       "  background-color: var(--sklearn-color-background);\n",
       "  position: relative;\n",
       "}\n",
       "\n",
       "#sk-container-id-1 div.sk-parallel-item {\n",
       "  display: flex;\n",
       "  flex-direction: column;\n",
       "}\n",
       "\n",
       "#sk-container-id-1 div.sk-parallel-item:first-child::after {\n",
       "  align-self: flex-end;\n",
       "  width: 50%;\n",
       "}\n",
       "\n",
       "#sk-container-id-1 div.sk-parallel-item:last-child::after {\n",
       "  align-self: flex-start;\n",
       "  width: 50%;\n",
       "}\n",
       "\n",
       "#sk-container-id-1 div.sk-parallel-item:only-child::after {\n",
       "  width: 0;\n",
       "}\n",
       "\n",
       "/* Serial-specific style estimator block */\n",
       "\n",
       "#sk-container-id-1 div.sk-serial {\n",
       "  display: flex;\n",
       "  flex-direction: column;\n",
       "  align-items: center;\n",
       "  background-color: var(--sklearn-color-background);\n",
       "  padding-right: 1em;\n",
       "  padding-left: 1em;\n",
       "}\n",
       "\n",
       "\n",
       "/* Toggleable style: style used for estimator/Pipeline/ColumnTransformer box that is\n",
       "clickable and can be expanded/collapsed.\n",
       "- Pipeline and ColumnTransformer use this feature and define the default style\n",
       "- Estimators will overwrite some part of the style using the `sk-estimator` class\n",
       "*/\n",
       "\n",
       "/* Pipeline and ColumnTransformer style (default) */\n",
       "\n",
       "#sk-container-id-1 div.sk-toggleable {\n",
       "  /* Default theme specific background. It is overwritten whether we have a\n",
       "  specific estimator or a Pipeline/ColumnTransformer */\n",
       "  background-color: var(--sklearn-color-background);\n",
       "}\n",
       "\n",
       "/* Toggleable label */\n",
       "#sk-container-id-1 label.sk-toggleable__label {\n",
       "  cursor: pointer;\n",
       "  display: block;\n",
       "  width: 100%;\n",
       "  margin-bottom: 0;\n",
       "  padding: 0.5em;\n",
       "  box-sizing: border-box;\n",
       "  text-align: center;\n",
       "}\n",
       "\n",
       "#sk-container-id-1 label.sk-toggleable__label-arrow:before {\n",
       "  /* Arrow on the left of the label */\n",
       "  content: \"▸\";\n",
       "  float: left;\n",
       "  margin-right: 0.25em;\n",
       "  color: var(--sklearn-color-icon);\n",
       "}\n",
       "\n",
       "#sk-container-id-1 label.sk-toggleable__label-arrow:hover:before {\n",
       "  color: var(--sklearn-color-text);\n",
       "}\n",
       "\n",
       "/* Toggleable content - dropdown */\n",
       "\n",
       "#sk-container-id-1 div.sk-toggleable__content {\n",
       "  max-height: 0;\n",
       "  max-width: 0;\n",
       "  overflow: hidden;\n",
       "  text-align: left;\n",
       "  /* unfitted */\n",
       "  background-color: var(--sklearn-color-unfitted-level-0);\n",
       "}\n",
       "\n",
       "#sk-container-id-1 div.sk-toggleable__content.fitted {\n",
       "  /* fitted */\n",
       "  background-color: var(--sklearn-color-fitted-level-0);\n",
       "}\n",
       "\n",
       "#sk-container-id-1 div.sk-toggleable__content pre {\n",
       "  margin: 0.2em;\n",
       "  border-radius: 0.25em;\n",
       "  color: var(--sklearn-color-text);\n",
       "  /* unfitted */\n",
       "  background-color: var(--sklearn-color-unfitted-level-0);\n",
       "}\n",
       "\n",
       "#sk-container-id-1 div.sk-toggleable__content.fitted pre {\n",
       "  /* unfitted */\n",
       "  background-color: var(--sklearn-color-fitted-level-0);\n",
       "}\n",
       "\n",
       "#sk-container-id-1 input.sk-toggleable__control:checked~div.sk-toggleable__content {\n",
       "  /* Expand drop-down */\n",
       "  max-height: 200px;\n",
       "  max-width: 100%;\n",
       "  overflow: auto;\n",
       "}\n",
       "\n",
       "#sk-container-id-1 input.sk-toggleable__control:checked~label.sk-toggleable__label-arrow:before {\n",
       "  content: \"▾\";\n",
       "}\n",
       "\n",
       "/* Pipeline/ColumnTransformer-specific style */\n",
       "\n",
       "#sk-container-id-1 div.sk-label input.sk-toggleable__control:checked~label.sk-toggleable__label {\n",
       "  color: var(--sklearn-color-text);\n",
       "  background-color: var(--sklearn-color-unfitted-level-2);\n",
       "}\n",
       "\n",
       "#sk-container-id-1 div.sk-label.fitted input.sk-toggleable__control:checked~label.sk-toggleable__label {\n",
       "  background-color: var(--sklearn-color-fitted-level-2);\n",
       "}\n",
       "\n",
       "/* Estimator-specific style */\n",
       "\n",
       "/* Colorize estimator box */\n",
       "#sk-container-id-1 div.sk-estimator input.sk-toggleable__control:checked~label.sk-toggleable__label {\n",
       "  /* unfitted */\n",
       "  background-color: var(--sklearn-color-unfitted-level-2);\n",
       "}\n",
       "\n",
       "#sk-container-id-1 div.sk-estimator.fitted input.sk-toggleable__control:checked~label.sk-toggleable__label {\n",
       "  /* fitted */\n",
       "  background-color: var(--sklearn-color-fitted-level-2);\n",
       "}\n",
       "\n",
       "#sk-container-id-1 div.sk-label label.sk-toggleable__label,\n",
       "#sk-container-id-1 div.sk-label label {\n",
       "  /* The background is the default theme color */\n",
       "  color: var(--sklearn-color-text-on-default-background);\n",
       "}\n",
       "\n",
       "/* On hover, darken the color of the background */\n",
       "#sk-container-id-1 div.sk-label:hover label.sk-toggleable__label {\n",
       "  color: var(--sklearn-color-text);\n",
       "  background-color: var(--sklearn-color-unfitted-level-2);\n",
       "}\n",
       "\n",
       "/* Label box, darken color on hover, fitted */\n",
       "#sk-container-id-1 div.sk-label.fitted:hover label.sk-toggleable__label.fitted {\n",
       "  color: var(--sklearn-color-text);\n",
       "  background-color: var(--sklearn-color-fitted-level-2);\n",
       "}\n",
       "\n",
       "/* Estimator label */\n",
       "\n",
       "#sk-container-id-1 div.sk-label label {\n",
       "  font-family: monospace;\n",
       "  font-weight: bold;\n",
       "  display: inline-block;\n",
       "  line-height: 1.2em;\n",
       "}\n",
       "\n",
       "#sk-container-id-1 div.sk-label-container {\n",
       "  text-align: center;\n",
       "}\n",
       "\n",
       "/* Estimator-specific */\n",
       "#sk-container-id-1 div.sk-estimator {\n",
       "  font-family: monospace;\n",
       "  border: 1px dotted var(--sklearn-color-border-box);\n",
       "  border-radius: 0.25em;\n",
       "  box-sizing: border-box;\n",
       "  margin-bottom: 0.5em;\n",
       "  /* unfitted */\n",
       "  background-color: var(--sklearn-color-unfitted-level-0);\n",
       "}\n",
       "\n",
       "#sk-container-id-1 div.sk-estimator.fitted {\n",
       "  /* fitted */\n",
       "  background-color: var(--sklearn-color-fitted-level-0);\n",
       "}\n",
       "\n",
       "/* on hover */\n",
       "#sk-container-id-1 div.sk-estimator:hover {\n",
       "  /* unfitted */\n",
       "  background-color: var(--sklearn-color-unfitted-level-2);\n",
       "}\n",
       "\n",
       "#sk-container-id-1 div.sk-estimator.fitted:hover {\n",
       "  /* fitted */\n",
       "  background-color: var(--sklearn-color-fitted-level-2);\n",
       "}\n",
       "\n",
       "/* Specification for estimator info (e.g. \"i\" and \"?\") */\n",
       "\n",
       "/* Common style for \"i\" and \"?\" */\n",
       "\n",
       ".sk-estimator-doc-link,\n",
       "a:link.sk-estimator-doc-link,\n",
       "a:visited.sk-estimator-doc-link {\n",
       "  float: right;\n",
       "  font-size: smaller;\n",
       "  line-height: 1em;\n",
       "  font-family: monospace;\n",
       "  background-color: var(--sklearn-color-background);\n",
       "  border-radius: 1em;\n",
       "  height: 1em;\n",
       "  width: 1em;\n",
       "  text-decoration: none !important;\n",
       "  margin-left: 1ex;\n",
       "  /* unfitted */\n",
       "  border: var(--sklearn-color-unfitted-level-1) 1pt solid;\n",
       "  color: var(--sklearn-color-unfitted-level-1);\n",
       "}\n",
       "\n",
       ".sk-estimator-doc-link.fitted,\n",
       "a:link.sk-estimator-doc-link.fitted,\n",
       "a:visited.sk-estimator-doc-link.fitted {\n",
       "  /* fitted */\n",
       "  border: var(--sklearn-color-fitted-level-1) 1pt solid;\n",
       "  color: var(--sklearn-color-fitted-level-1);\n",
       "}\n",
       "\n",
       "/* On hover */\n",
       "div.sk-estimator:hover .sk-estimator-doc-link:hover,\n",
       ".sk-estimator-doc-link:hover,\n",
       "div.sk-label-container:hover .sk-estimator-doc-link:hover,\n",
       ".sk-estimator-doc-link:hover {\n",
       "  /* unfitted */\n",
       "  background-color: var(--sklearn-color-unfitted-level-3);\n",
       "  color: var(--sklearn-color-background);\n",
       "  text-decoration: none;\n",
       "}\n",
       "\n",
       "div.sk-estimator.fitted:hover .sk-estimator-doc-link.fitted:hover,\n",
       ".sk-estimator-doc-link.fitted:hover,\n",
       "div.sk-label-container:hover .sk-estimator-doc-link.fitted:hover,\n",
       ".sk-estimator-doc-link.fitted:hover {\n",
       "  /* fitted */\n",
       "  background-color: var(--sklearn-color-fitted-level-3);\n",
       "  color: var(--sklearn-color-background);\n",
       "  text-decoration: none;\n",
       "}\n",
       "\n",
       "/* Span, style for the box shown on hovering the info icon */\n",
       ".sk-estimator-doc-link span {\n",
       "  display: none;\n",
       "  z-index: 9999;\n",
       "  position: relative;\n",
       "  font-weight: normal;\n",
       "  right: .2ex;\n",
       "  padding: .5ex;\n",
       "  margin: .5ex;\n",
       "  width: min-content;\n",
       "  min-width: 20ex;\n",
       "  max-width: 50ex;\n",
       "  color: var(--sklearn-color-text);\n",
       "  box-shadow: 2pt 2pt 4pt #999;\n",
       "  /* unfitted */\n",
       "  background: var(--sklearn-color-unfitted-level-0);\n",
       "  border: .5pt solid var(--sklearn-color-unfitted-level-3);\n",
       "}\n",
       "\n",
       ".sk-estimator-doc-link.fitted span {\n",
       "  /* fitted */\n",
       "  background: var(--sklearn-color-fitted-level-0);\n",
       "  border: var(--sklearn-color-fitted-level-3);\n",
       "}\n",
       "\n",
       ".sk-estimator-doc-link:hover span {\n",
       "  display: block;\n",
       "}\n",
       "\n",
       "/* \"?\"-specific style due to the `<a>` HTML tag */\n",
       "\n",
       "#sk-container-id-1 a.estimator_doc_link {\n",
       "  float: right;\n",
       "  font-size: 1rem;\n",
       "  line-height: 1em;\n",
       "  font-family: monospace;\n",
       "  background-color: var(--sklearn-color-background);\n",
       "  border-radius: 1rem;\n",
       "  height: 1rem;\n",
       "  width: 1rem;\n",
       "  text-decoration: none;\n",
       "  /* unfitted */\n",
       "  color: var(--sklearn-color-unfitted-level-1);\n",
       "  border: var(--sklearn-color-unfitted-level-1) 1pt solid;\n",
       "}\n",
       "\n",
       "#sk-container-id-1 a.estimator_doc_link.fitted {\n",
       "  /* fitted */\n",
       "  border: var(--sklearn-color-fitted-level-1) 1pt solid;\n",
       "  color: var(--sklearn-color-fitted-level-1);\n",
       "}\n",
       "\n",
       "/* On hover */\n",
       "#sk-container-id-1 a.estimator_doc_link:hover {\n",
       "  /* unfitted */\n",
       "  background-color: var(--sklearn-color-unfitted-level-3);\n",
       "  color: var(--sklearn-color-background);\n",
       "  text-decoration: none;\n",
       "}\n",
       "\n",
       "#sk-container-id-1 a.estimator_doc_link.fitted:hover {\n",
       "  /* fitted */\n",
       "  background-color: var(--sklearn-color-fitted-level-3);\n",
       "}\n",
       "</style><div id=\"sk-container-id-1\" class=\"sk-top-container\"><div class=\"sk-text-repr-fallback\"><pre>LogisticRegression(max_iter=1000)</pre><b>In a Jupyter environment, please rerun this cell to show the HTML representation or trust the notebook. <br />On GitHub, the HTML representation is unable to render, please try loading this page with nbviewer.org.</b></div><div class=\"sk-container\" hidden><div class=\"sk-item\"><div class=\"sk-estimator fitted sk-toggleable\"><input class=\"sk-toggleable__control sk-hidden--visually\" id=\"sk-estimator-id-1\" type=\"checkbox\" checked><label for=\"sk-estimator-id-1\" class=\"sk-toggleable__label fitted sk-toggleable__label-arrow fitted\">&nbsp;&nbsp;LogisticRegression<a class=\"sk-estimator-doc-link fitted\" rel=\"noreferrer\" target=\"_blank\" href=\"https://scikit-learn.org/1.5/modules/generated/sklearn.linear_model.LogisticRegression.html\">?<span>Documentation for LogisticRegression</span></a><span class=\"sk-estimator-doc-link fitted\">i<span>Fitted</span></span></label><div class=\"sk-toggleable__content fitted\"><pre>LogisticRegression(max_iter=1000)</pre></div> </div></div></div></div>"
      ],
      "text/plain": [
       "LogisticRegression(max_iter=1000)"
      ]
     },
     "execution_count": 70,
     "metadata": {},
     "output_type": "execute_result"
    }
   ],
   "source": [
    "lr_model.fit(X_train_tfidf, y_train)"
   ]
  },
  {
   "cell_type": "markdown",
   "id": "30018f94-1e00-46f3-b16e-f57c622f776a",
   "metadata": {},
   "source": [
    "#### Predict on test data"
   ]
  },
  {
   "cell_type": "code",
   "execution_count": 71,
   "id": "404a66c0-01e9-4c76-b560-1fe45ba8adf5",
   "metadata": {},
   "outputs": [],
   "source": [
    "y_pred = lr_model.predict(X_test_tfidf)"
   ]
  },
  {
   "cell_type": "markdown",
   "id": "e579de8e-3223-4402-ad61-d1f161078355",
   "metadata": {},
   "source": [
    "### `Evaluating LOGISTIC REGRESSION` "
   ]
  },
  {
   "cell_type": "code",
   "execution_count": 72,
   "id": "ebf1fc8a-f4a9-4939-830a-63c69de057da",
   "metadata": {},
   "outputs": [
    {
     "name": "stdout",
     "output_type": "stream",
     "text": [
      "Accuracy of Logistic Regression: 0.9038397204772702\n",
      "\n",
      "Classification Report:\n",
      "               precision    recall  f1-score   support\n",
      "\n",
      "          -1       0.88      0.84      0.86     22987\n",
      "           0       0.92      0.95      0.93     21168\n",
      "           1       0.91      0.92      0.91     36554\n",
      "\n",
      "    accuracy                           0.90     80709\n",
      "   macro avg       0.90      0.90      0.90     80709\n",
      "weighted avg       0.90      0.90      0.90     80709\n",
      "\n",
      "\n",
      "Confusion Matrix:\n",
      " [[19356  1027  2604]\n",
      " [  480 20021   667]\n",
      " [ 2229   754 33571]]\n"
     ]
    }
   ],
   "source": [
    "print(\"Accuracy of Logistic Regression:\", accuracy_score(y_test, y_pred))\n",
    "print(\"\\nClassification Report:\\n\", classification_report(y_test, y_pred))\n",
    "print(\"\\nConfusion Matrix:\\n\", confusion_matrix(y_test, y_pred))"
   ]
  },
  {
   "cell_type": "markdown",
   "id": "9968246e-4837-4590-9f55-2c9455605e8e",
   "metadata": {},
   "source": [
    "<div class=\"alert-success\">\n",
    "Accuracy of 90.38% — and the model is clearly performing well across all three sentiment classes!\n",
    "</div>"
   ]
  },
  {
   "cell_type": "markdown",
   "id": "ba4683e4-480d-4fd5-b99a-221137e1a484",
   "metadata": {},
   "source": [
    "> Precision = how many selected items are relevant\n",
    "\n",
    "> Recall = how many relevant items are selected\n",
    "\n",
    "> F1-score = balance between precision & recall"
   ]
  },
  {
   "cell_type": "code",
   "execution_count": 73,
   "id": "61ee7025-83e0-43b3-811a-886ee6d42efe",
   "metadata": {},
   "outputs": [
    {
     "data": {
      "image/png": "[encoded data removed]",
      "text/plain": [
       "<Figure size 600x400 with 2 Axes>"
      ]
     },
     "metadata": {},
     "output_type": "display_data"
    }
   ],
   "source": [
    "# Creating confusion matrix\n",
    "cm = confusion_matrix(y_test, y_pred)\n",
    "\n",
    "# Plotting confusion matrix\n",
    "plt.figure(figsize=(6, 4))\n",
    "sns.heatmap(cm, annot=True, fmt='d', cmap='Blues', \n",
    "            xticklabels=['Negative', 'Neutral', 'Positive'], \n",
    "            yticklabels=['Negative', 'Neutral', 'Positive'])\n",
    "plt.xlabel('Predicted Values')\n",
    "plt.ylabel('Actual Values')\n",
    "plt.title('logistic Regression Confusion Matrix')\n",
    "plt.show()"
   ]
  },
  {
   "cell_type": "markdown",
   "id": "0ccaa988-9ea4-4076-bfae-b08be1549675",
   "metadata": {},
   "source": [
    "### Random Forest Classifier\n",
    "Random Forest is great because it handles high-dimensional data well and is robust to overfitting."
   ]
  },
  {
   "cell_type": "markdown",
   "id": "493c8071-971d-454d-944c-47b77a47e3e1",
   "metadata": {},
   "source": [
    "<div class=\"alert-info\">\n",
    "Model Two \n",
    "</div>"
   ]
  },
  {
   "cell_type": "markdown",
   "id": "09a55217-fd24-4378-8c27-fc0a8e113312",
   "metadata": {},
   "source": [
    "#### Initialize and train the model"
   ]
  },
  {
   "cell_type": "code",
   "execution_count": 74,
   "id": "6897a98b-32a2-4ef9-be66-5640579091bb",
   "metadata": {},
   "outputs": [
    {
     "data": {
      "text/html": [
       "<style>#sk-container-id-2 {\n",
       "  /* Definition of color scheme common for light and dark mode */\n",
       "  --sklearn-color-text: black;\n",
       "  --sklearn-color-line: gray;\n",
       "  /* Definition of color scheme for unfitted estimators */\n",
       "  --sklearn-color-unfitted-level-0: #fff5e6;\n",
       "  --sklearn-color-unfitted-level-1: #f6e4d2;\n",
       "  --sklearn-color-unfitted-level-2: #ffe0b3;\n",
       "  --sklearn-color-unfitted-level-3: chocolate;\n",
       "  /* Definition of color scheme for fitted estimators */\n",
       "  --sklearn-color-fitted-level-0: #f0f8ff;\n",
       "  --sklearn-color-fitted-level-1: #d4ebff;\n",
       "  --sklearn-color-fitted-level-2: #b3dbfd;\n",
       "  --sklearn-color-fitted-level-3: cornflowerblue;\n",
       "\n",
       "  /* Specific color for light theme */\n",
       "  --sklearn-color-text-on-default-background: var(--sg-text-color, var(--theme-code-foreground, var(--jp-content-font-color1, black)));\n",
       "  --sklearn-color-background: var(--sg-background-color, var(--theme-background, var(--jp-layout-color0, white)));\n",
       "  --sklearn-color-border-box: var(--sg-text-color, var(--theme-code-foreground, var(--jp-content-font-color1, black)));\n",
       "  --sklearn-color-icon: #696969;\n",
       "\n",
       "  @media (prefers-color-scheme: dark) {\n",
       "    /* Redefinition of color scheme for dark theme */\n",
       "    --sklearn-color-text-on-default-background: var(--sg-text-color, var(--theme-code-foreground, var(--jp-content-font-color1, white)));\n",
       "    --sklearn-color-background: var(--sg-background-color, var(--theme-background, var(--jp-layout-color0, #111)));\n",
       "    --sklearn-color-border-box: var(--sg-text-color, var(--theme-code-foreground, var(--jp-content-font-color1, white)));\n",
       "    --sklearn-color-icon: #878787;\n",
       "  }\n",
       "}\n",
       "\n",
       "#sk-container-id-2 {\n",
       "  color: var(--sklearn-color-text);\n",
       "}\n",
       "\n",
       "#sk-container-id-2 pre {\n",
       "  padding: 0;\n",
       "}\n",
       "\n",
       "#sk-container-id-2 input.sk-hidden--visually {\n",
       "  border: 0;\n",
       "  clip: rect(1px 1px 1px 1px);\n",
       "  clip: rect(1px, 1px, 1px, 1px);\n",
       "  height: 1px;\n",
       "  margin: -1px;\n",
       "  overflow: hidden;\n",
       "  padding: 0;\n",
       "  position: absolute;\n",
       "  width: 1px;\n",
       "}\n",
       "\n",
       "#sk-container-id-2 div.sk-dashed-wrapped {\n",
       "  border: 1px dashed var(--sklearn-color-line);\n",
       "  margin: 0 0.4em 0.5em 0.4em;\n",
       "  box-sizing: border-box;\n",
       "  padding-bottom: 0.4em;\n",
       "  background-color: var(--sklearn-color-background);\n",
       "}\n",
       "\n",
       "#sk-container-id-2 div.sk-container {\n",
       "  /* jupyter's `normalize.less` sets `[hidden] { display: none; }`\n",
       "     but bootstrap.min.css set `[hidden] { display: none !important; }`\n",
       "     so we also need the `!important` here to be able to override the\n",
       "     default hidden behavior on the sphinx rendered scikit-learn.org.\n",
       "     See: https://github.com/scikit-learn/scikit-learn/issues/21755 */\n",
       "  display: inline-block !important;\n",
       "  position: relative;\n",
       "}\n",
       "\n",
       "#sk-container-id-2 div.sk-text-repr-fallback {\n",
       "  display: none;\n",
       "}\n",
       "\n",
       "div.sk-parallel-item,\n",
       "div.sk-serial,\n",
       "div.sk-item {\n",
       "  /* draw centered vertical line to link estimators */\n",
       "  background-image: linear-gradient(var(--sklearn-color-text-on-default-background), var(--sklearn-color-text-on-default-background));\n",
       "  background-size: 2px 100%;\n",
       "  background-repeat: no-repeat;\n",
       "  background-position: center center;\n",
       "}\n",
       "\n",
       "/* Parallel-specific style estimator block */\n",
       "\n",
       "#sk-container-id-2 div.sk-parallel-item::after {\n",
       "  content: \"\";\n",
       "  width: 100%;\n",
       "  border-bottom: 2px solid var(--sklearn-color-text-on-default-background);\n",
       "  flex-grow: 1;\n",
       "}\n",
       "\n",
       "#sk-container-id-2 div.sk-parallel {\n",
       "  display: flex;\n",
       "  align-items: stretch;\n",
       "  justify-content: center;\n",
       "  background-color: var(--sklearn-color-background);\n",
       "  position: relative;\n",
       "}\n",
       "\n",
       "#sk-container-id-2 div.sk-parallel-item {\n",
       "  display: flex;\n",
       "  flex-direction: column;\n",
       "}\n",
       "\n",
       "#sk-container-id-2 div.sk-parallel-item:first-child::after {\n",
       "  align-self: flex-end;\n",
       "  width: 50%;\n",
       "}\n",
       "\n",
       "#sk-container-id-2 div.sk-parallel-item:last-child::after {\n",
       "  align-self: flex-start;\n",
       "  width: 50%;\n",
       "}\n",
       "\n",
       "#sk-container-id-2 div.sk-parallel-item:only-child::after {\n",
       "  width: 0;\n",
       "}\n",
       "\n",
       "/* Serial-specific style estimator block */\n",
       "\n",
       "#sk-container-id-2 div.sk-serial {\n",
       "  display: flex;\n",
       "  flex-direction: column;\n",
       "  align-items: center;\n",
       "  background-color: var(--sklearn-color-background);\n",
       "  padding-right: 1em;\n",
       "  padding-left: 1em;\n",
       "}\n",
       "\n",
       "\n",
       "/* Toggleable style: style used for estimator/Pipeline/ColumnTransformer box that is\n",
       "clickable and can be expanded/collapsed.\n",
       "- Pipeline and ColumnTransformer use this feature and define the default style\n",
       "- Estimators will overwrite some part of the style using the `sk-estimator` class\n",
       "*/\n",
       "\n",
       "/* Pipeline and ColumnTransformer style (default) */\n",
       "\n",
       "#sk-container-id-2 div.sk-toggleable {\n",
       "  /* Default theme specific background. It is overwritten whether we have a\n",
       "  specific estimator or a Pipeline/ColumnTransformer */\n",
       "  background-color: var(--sklearn-color-background);\n",
       "}\n",
       "\n",
       "/* Toggleable label */\n",
       "#sk-container-id-2 label.sk-toggleable__label {\n",
       "  cursor: pointer;\n",
       "  display: block;\n",
       "  width: 100%;\n",
       "  margin-bottom: 0;\n",
       "  padding: 0.5em;\n",
       "  box-sizing: border-box;\n",
       "  text-align: center;\n",
       "}\n",
       "\n",
       "#sk-container-id-2 label.sk-toggleable__label-arrow:before {\n",
       "  /* Arrow on the left of the label */\n",
       "  content: \"▸\";\n",
       "  float: left;\n",
       "  margin-right: 0.25em;\n",
       "  color: var(--sklearn-color-icon);\n",
       "}\n",
       "\n",
       "#sk-container-id-2 label.sk-toggleable__label-arrow:hover:before {\n",
       "  color: var(--sklearn-color-text);\n",
       "}\n",
       "\n",
       "/* Toggleable content - dropdown */\n",
       "\n",
       "#sk-container-id-2 div.sk-toggleable__content {\n",
       "  max-height: 0;\n",
       "  max-width: 0;\n",
       "  overflow: hidden;\n",
       "  text-align: left;\n",
       "  /* unfitted */\n",
       "  background-color: var(--sklearn-color-unfitted-level-0);\n",
       "}\n",
       "\n",
       "#sk-container-id-2 div.sk-toggleable__content.fitted {\n",
       "  /* fitted */\n",
       "  background-color: var(--sklearn-color-fitted-level-0);\n",
       "}\n",
       "\n",
       "#sk-container-id-2 div.sk-toggleable__content pre {\n",
       "  margin: 0.2em;\n",
       "  border-radius: 0.25em;\n",
       "  color: var(--sklearn-color-text);\n",
       "  /* unfitted */\n",
       "  background-color: var(--sklearn-color-unfitted-level-0);\n",
       "}\n",
       "\n",
       "#sk-container-id-2 div.sk-toggleable__content.fitted pre {\n",
       "  /* unfitted */\n",
       "  background-color: var(--sklearn-color-fitted-level-0);\n",
       "}\n",
       "\n",
       "#sk-container-id-2 input.sk-toggleable__control:checked~div.sk-toggleable__content {\n",
       "  /* Expand drop-down */\n",
       "  max-height: 200px;\n",
       "  max-width: 100%;\n",
       "  overflow: auto;\n",
       "}\n",
       "\n",
       "#sk-container-id-2 input.sk-toggleable__control:checked~label.sk-toggleable__label-arrow:before {\n",
       "  content: \"▾\";\n",
       "}\n",
       "\n",
       "/* Pipeline/ColumnTransformer-specific style */\n",
       "\n",
       "#sk-container-id-2 div.sk-label input.sk-toggleable__control:checked~label.sk-toggleable__label {\n",
       "  color: var(--sklearn-color-text);\n",
       "  background-color: var(--sklearn-color-unfitted-level-2);\n",
       "}\n",
       "\n",
       "#sk-container-id-2 div.sk-label.fitted input.sk-toggleable__control:checked~label.sk-toggleable__label {\n",
       "  background-color: var(--sklearn-color-fitted-level-2);\n",
       "}\n",
       "\n",
       "/* Estimator-specific style */\n",
       "\n",
       "/* Colorize estimator box */\n",
       "#sk-container-id-2 div.sk-estimator input.sk-toggleable__control:checked~label.sk-toggleable__label {\n",
       "  /* unfitted */\n",
       "  background-color: var(--sklearn-color-unfitted-level-2);\n",
       "}\n",
       "\n",
       "#sk-container-id-2 div.sk-estimator.fitted input.sk-toggleable__control:checked~label.sk-toggleable__label {\n",
       "  /* fitted */\n",
       "  background-color: var(--sklearn-color-fitted-level-2);\n",
       "}\n",
       "\n",
       "#sk-container-id-2 div.sk-label label.sk-toggleable__label,\n",
       "#sk-container-id-2 div.sk-label label {\n",
       "  /* The background is the default theme color */\n",
       "  color: var(--sklearn-color-text-on-default-background);\n",
       "}\n",
       "\n",
       "/* On hover, darken the color of the background */\n",
       "#sk-container-id-2 div.sk-label:hover label.sk-toggleable__label {\n",
       "  color: var(--sklearn-color-text);\n",
       "  background-color: var(--sklearn-color-unfitted-level-2);\n",
       "}\n",
       "\n",
       "/* Label box, darken color on hover, fitted */\n",
       "#sk-container-id-2 div.sk-label.fitted:hover label.sk-toggleable__label.fitted {\n",
       "  color: var(--sklearn-color-text);\n",
       "  background-color: var(--sklearn-color-fitted-level-2);\n",
       "}\n",
       "\n",
       "/* Estimator label */\n",
       "\n",
       "#sk-container-id-2 div.sk-label label {\n",
       "  font-family: monospace;\n",
       "  font-weight: bold;\n",
       "  display: inline-block;\n",
       "  line-height: 1.2em;\n",
       "}\n",
       "\n",
       "#sk-container-id-2 div.sk-label-container {\n",
       "  text-align: center;\n",
       "}\n",
       "\n",
       "/* Estimator-specific */\n",
       "#sk-container-id-2 div.sk-estimator {\n",
       "  font-family: monospace;\n",
       "  border: 1px dotted var(--sklearn-color-border-box);\n",
       "  border-radius: 0.25em;\n",
       "  box-sizing: border-box;\n",
       "  margin-bottom: 0.5em;\n",
       "  /* unfitted */\n",
       "  background-color: var(--sklearn-color-unfitted-level-0);\n",
       "}\n",
       "\n",
       "#sk-container-id-2 div.sk-estimator.fitted {\n",
       "  /* fitted */\n",
       "  background-color: var(--sklearn-color-fitted-level-0);\n",
       "}\n",
       "\n",
       "/* on hover */\n",
       "#sk-container-id-2 div.sk-estimator:hover {\n",
       "  /* unfitted */\n",
       "  background-color: var(--sklearn-color-unfitted-level-2);\n",
       "}\n",
       "\n",
       "#sk-container-id-2 div.sk-estimator.fitted:hover {\n",
       "  /* fitted */\n",
       "  background-color: var(--sklearn-color-fitted-level-2);\n",
       "}\n",
       "\n",
       "/* Specification for estimator info (e.g. \"i\" and \"?\") */\n",
       "\n",
       "/* Common style for \"i\" and \"?\" */\n",
       "\n",
       ".sk-estimator-doc-link,\n",
       "a:link.sk-estimator-doc-link,\n",
       "a:visited.sk-estimator-doc-link {\n",
       "  float: right;\n",
       "  font-size: smaller;\n",
       "  line-height: 1em;\n",
       "  font-family: monospace;\n",
       "  background-color: var(--sklearn-color-background);\n",
       "  border-radius: 1em;\n",
       "  height: 1em;\n",
       "  width: 1em;\n",
       "  text-decoration: none !important;\n",
       "  margin-left: 1ex;\n",
       "  /* unfitted */\n",
       "  border: var(--sklearn-color-unfitted-level-1) 1pt solid;\n",
       "  color: var(--sklearn-color-unfitted-level-1);\n",
       "}\n",
       "\n",
       ".sk-estimator-doc-link.fitted,\n",
       "a:link.sk-estimator-doc-link.fitted,\n",
       "a:visited.sk-estimator-doc-link.fitted {\n",
       "  /* fitted */\n",
       "  border: var(--sklearn-color-fitted-level-1) 1pt solid;\n",
       "  color: var(--sklearn-color-fitted-level-1);\n",
       "}\n",
       "\n",
       "/* On hover */\n",
       "div.sk-estimator:hover .sk-estimator-doc-link:hover,\n",
       ".sk-estimator-doc-link:hover,\n",
       "div.sk-label-container:hover .sk-estimator-doc-link:hover,\n",
       ".sk-estimator-doc-link:hover {\n",
       "  /* unfitted */\n",
       "  background-color: var(--sklearn-color-unfitted-level-3);\n",
       "  color: var(--sklearn-color-background);\n",
       "  text-decoration: none;\n",
       "}\n",
       "\n",
       "div.sk-estimator.fitted:hover .sk-estimator-doc-link.fitted:hover,\n",
       ".sk-estimator-doc-link.fitted:hover,\n",
       "div.sk-label-container:hover .sk-estimator-doc-link.fitted:hover,\n",
       ".sk-estimator-doc-link.fitted:hover {\n",
       "  /* fitted */\n",
       "  background-color: var(--sklearn-color-fitted-level-3);\n",
       "  color: var(--sklearn-color-background);\n",
       "  text-decoration: none;\n",
       "}\n",
       "\n",
       "/* Span, style for the box shown on hovering the info icon */\n",
       ".sk-estimator-doc-link span {\n",
       "  display: none;\n",
       "  z-index: 9999;\n",
       "  position: relative;\n",
       "  font-weight: normal;\n",
       "  right: .2ex;\n",
       "  padding: .5ex;\n",
       "  margin: .5ex;\n",
       "  width: min-content;\n",
       "  min-width: 20ex;\n",
       "  max-width: 50ex;\n",
       "  color: var(--sklearn-color-text);\n",
       "  box-shadow: 2pt 2pt 4pt #999;\n",
       "  /* unfitted */\n",
       "  background: var(--sklearn-color-unfitted-level-0);\n",
       "  border: .5pt solid var(--sklearn-color-unfitted-level-3);\n",
       "}\n",
       "\n",
       ".sk-estimator-doc-link.fitted span {\n",
       "  /* fitted */\n",
       "  background: var(--sklearn-color-fitted-level-0);\n",
       "  border: var(--sklearn-color-fitted-level-3);\n",
       "}\n",
       "\n",
       ".sk-estimator-doc-link:hover span {\n",
       "  display: block;\n",
       "}\n",
       "\n",
       "/* \"?\"-specific style due to the `<a>` HTML tag */\n",
       "\n",
       "#sk-container-id-2 a.estimator_doc_link {\n",
       "  float: right;\n",
       "  font-size: 1rem;\n",
       "  line-height: 1em;\n",
       "  font-family: monospace;\n",
       "  background-color: var(--sklearn-color-background);\n",
       "  border-radius: 1rem;\n",
       "  height: 1rem;\n",
       "  width: 1rem;\n",
       "  text-decoration: none;\n",
       "  /* unfitted */\n",
       "  color: var(--sklearn-color-unfitted-level-1);\n",
       "  border: var(--sklearn-color-unfitted-level-1) 1pt solid;\n",
       "}\n",
       "\n",
       "#sk-container-id-2 a.estimator_doc_link.fitted {\n",
       "  /* fitted */\n",
       "  border: var(--sklearn-color-fitted-level-1) 1pt solid;\n",
       "  color: var(--sklearn-color-fitted-level-1);\n",
       "}\n",
       "\n",
       "/* On hover */\n",
       "#sk-container-id-2 a.estimator_doc_link:hover {\n",
       "  /* unfitted */\n",
       "  background-color: var(--sklearn-color-unfitted-level-3);\n",
       "  color: var(--sklearn-color-background);\n",
       "  text-decoration: none;\n",
       "}\n",
       "\n",
       "#sk-container-id-2 a.estimator_doc_link.fitted:hover {\n",
       "  /* fitted */\n",
       "  background-color: var(--sklearn-color-fitted-level-3);\n",
       "}\n",
       "</style><div id=\"sk-container-id-2\" class=\"sk-top-container\"><div class=\"sk-text-repr-fallback\"><pre>RandomForestClassifier(random_state=42)</pre><b>In a Jupyter environment, please rerun this cell to show the HTML representation or trust the notebook. <br />On GitHub, the HTML representation is unable to render, please try loading this page with nbviewer.org.</b></div><div class=\"sk-container\" hidden><div class=\"sk-item\"><div class=\"sk-estimator fitted sk-toggleable\"><input class=\"sk-toggleable__control sk-hidden--visually\" id=\"sk-estimator-id-2\" type=\"checkbox\" checked><label for=\"sk-estimator-id-2\" class=\"sk-toggleable__label fitted sk-toggleable__label-arrow fitted\">&nbsp;&nbsp;RandomForestClassifier<a class=\"sk-estimator-doc-link fitted\" rel=\"noreferrer\" target=\"_blank\" href=\"https://scikit-learn.org/1.5/modules/generated/sklearn.ensemble.RandomForestClassifier.html\">?<span>Documentation for RandomForestClassifier</span></a><span class=\"sk-estimator-doc-link fitted\">i<span>Fitted</span></span></label><div class=\"sk-toggleable__content fitted\"><pre>RandomForestClassifier(random_state=42)</pre></div> </div></div></div></div>"
      ],
      "text/plain": [
       "RandomForestClassifier(random_state=42)"
      ]
     },
     "execution_count": 74,
     "metadata": {},
     "output_type": "execute_result"
    }
   ],
   "source": [
    "rf_model = RandomForestClassifier(n_estimators=100, random_state=42)\n",
    "rf_model.fit(X_train_tfidf, y_train)"
   ]
  },
  {
   "cell_type": "markdown",
   "id": "6ba0503e-f05b-47c4-8303-0c692aacb0a4",
   "metadata": {},
   "source": [
    "`n_estimators=100:` the number of decision trees \n",
    "`random_state=42:` ensures reproducibility of results.`"
   ]
  },
  {
   "cell_type": "markdown",
   "id": "f55fb91e-60a0-42e2-809c-31e42bd51baf",
   "metadata": {},
   "source": [
    "#### Predict"
   ]
  },
  {
   "cell_type": "code",
   "execution_count": 75,
   "id": "cfb85c53-705b-4855-bc5c-1b5bf124d022",
   "metadata": {},
   "outputs": [],
   "source": [
    "y_pred_rf = rf_model.predict(X_test_tfidf)"
   ]
  },
  {
   "cell_type": "markdown",
   "id": "ad03c7d8-5b0b-4cf0-8a0c-99a9b8959199",
   "metadata": {},
   "source": [
    "### `Evaluating RANDOM FOREST CLASSIFIER` "
   ]
  },
  {
   "cell_type": "code",
   "execution_count": 76,
   "id": "78c44723-2752-46c0-9a42-d07957fb8d23",
   "metadata": {},
   "outputs": [
    {
     "name": "stdout",
     "output_type": "stream",
     "text": [
      "Accuracy: 0.8769158334262598\n"
     ]
    }
   ],
   "source": [
    "accuracy_rf = accuracy_score(y_test, y_pred_rf)\n",
    "print(\"Accuracy:\", accuracy_rf)"
   ]
  },
  {
   "cell_type": "markdown",
   "id": "25a2d9f9-43a0-4f65-88aa-916dce2635d7",
   "metadata": {},
   "source": [
    "<div class=\"alert-success\">\n",
    "Accuracy of 87.69% — and the model is clearly performing well across all three sentiment classes!\n",
    "</div>"
   ]
  },
  {
   "cell_type": "code",
   "execution_count": 77,
   "id": "cd25868f-1c18-44d6-ac5d-a4c7235b01fa",
   "metadata": {},
   "outputs": [
    {
     "name": "stdout",
     "output_type": "stream",
     "text": [
      "\n",
      "Classification Report:\n",
      "              precision    recall  f1-score   support\n",
      "\n",
      "          -1       0.85      0.77      0.81     22987\n",
      "           0       0.92      0.93      0.93     21168\n",
      "           1       0.86      0.91      0.89     36554\n",
      "\n",
      "    accuracy                           0.88     80709\n",
      "   macro avg       0.88      0.87      0.88     80709\n",
      "weighted avg       0.88      0.88      0.88     80709\n",
      "\n"
     ]
    }
   ],
   "source": [
    "print(\"\\nClassification Report:\")\n",
    "print(classification_report(y_test, y_pred_rf))"
   ]
  },
  {
   "cell_type": "code",
   "execution_count": 78,
   "id": "2fe6deec-761c-47da-8f53-1d1044fb3619",
   "metadata": {},
   "outputs": [
    {
     "data": {
      "image/png": "[encoded data removed]",
      "text/plain": [
       "<Figure size 700x500 with 2 Axes>"
      ]
     },
     "metadata": {},
     "output_type": "display_data"
    }
   ],
   "source": [
    "# Confusion Matrix\n",
    "cm_rf = confusion_matrix(y_test, y_pred_rf)\n",
    "plt.figure(figsize=(7,5))\n",
    "sns.heatmap(cm_rf, annot=True, fmt='d', cmap='Greens',\n",
    "            xticklabels=['Negative', 'Neutral', 'Positive'],\n",
    "            yticklabels=['Negative', 'Neutral', 'Positive'])\n",
    "plt.xlabel('Predicted Values')\n",
    "plt.ylabel('Actual Values')\n",
    "plt.title('Random Forest Confusion Matrix')\n",
    "plt.show()"
   ]
  },
  {
   "cell_type": "markdown",
   "id": "39c6506f-1ee6-4d6a-af21-737e085b1e2d",
   "metadata": {},
   "source": [
    "### Support Vector Machine (SVM)\n",
    "Support Vector Machine (SVM) model — it’s often very strong for text classification, especially with high-dimensional data like TF-IDF vectors."
   ]
  },
  {
   "cell_type": "markdown",
   "id": "1975ee02-b717-49bf-a919-d80daa0fda36",
   "metadata": {},
   "source": [
    "<div class=\"alert-info\">\n",
    "Model Three \n",
    "</div>"
   ]
  },
  {
   "cell_type": "markdown",
   "id": "57a455f4-73eb-4948-bdc7-6f43904f1961",
   "metadata": {},
   "source": [
    "#### Initialize and train the model##"
   ]
  },
  {
   "cell_type": "code",
   "execution_count": 79,
   "id": "6c2c1470-f09c-4610-9a8d-ee601cb69e24",
   "metadata": {},
   "outputs": [
    {
     "data": {
      "text/html": [
       "<style>#sk-container-id-3 {\n",
       "  /* Definition of color scheme common for light and dark mode */\n",
       "  --sklearn-color-text: black;\n",
       "  --sklearn-color-line: gray;\n",
       "  /* Definition of color scheme for unfitted estimators */\n",
       "  --sklearn-color-unfitted-level-0: #fff5e6;\n",
       "  --sklearn-color-unfitted-level-1: #f6e4d2;\n",
       "  --sklearn-color-unfitted-level-2: #ffe0b3;\n",
       "  --sklearn-color-unfitted-level-3: chocolate;\n",
       "  /* Definition of color scheme for fitted estimators */\n",
       "  --sklearn-color-fitted-level-0: #f0f8ff;\n",
       "  --sklearn-color-fitted-level-1: #d4ebff;\n",
       "  --sklearn-color-fitted-level-2: #b3dbfd;\n",
       "  --sklearn-color-fitted-level-3: cornflowerblue;\n",
       "\n",
       "  /* Specific color for light theme */\n",
       "  --sklearn-color-text-on-default-background: var(--sg-text-color, var(--theme-code-foreground, var(--jp-content-font-color1, black)));\n",
       "  --sklearn-color-background: var(--sg-background-color, var(--theme-background, var(--jp-layout-color0, white)));\n",
       "  --sklearn-color-border-box: var(--sg-text-color, var(--theme-code-foreground, var(--jp-content-font-color1, black)));\n",
       "  --sklearn-color-icon: #696969;\n",
       "\n",
       "  @media (prefers-color-scheme: dark) {\n",
       "    /* Redefinition of color scheme for dark theme */\n",
       "    --sklearn-color-text-on-default-background: var(--sg-text-color, var(--theme-code-foreground, var(--jp-content-font-color1, white)));\n",
       "    --sklearn-color-background: var(--sg-background-color, var(--theme-background, var(--jp-layout-color0, #111)));\n",
       "    --sklearn-color-border-box: var(--sg-text-color, var(--theme-code-foreground, var(--jp-content-font-color1, white)));\n",
       "    --sklearn-color-icon: #878787;\n",
       "  }\n",
       "}\n",
       "\n",
       "#sk-container-id-3 {\n",
       "  color: var(--sklearn-color-text);\n",
       "}\n",
       "\n",
       "#sk-container-id-3 pre {\n",
       "  padding: 0;\n",
       "}\n",
       "\n",
       "#sk-container-id-3 input.sk-hidden--visually {\n",
       "  border: 0;\n",
       "  clip: rect(1px 1px 1px 1px);\n",
       "  clip: rect(1px, 1px, 1px, 1px);\n",
       "  height: 1px;\n",
       "  margin: -1px;\n",
       "  overflow: hidden;\n",
       "  padding: 0;\n",
       "  position: absolute;\n",
       "  width: 1px;\n",
       "}\n",
       "\n",
       "#sk-container-id-3 div.sk-dashed-wrapped {\n",
       "  border: 1px dashed var(--sklearn-color-line);\n",
       "  margin: 0 0.4em 0.5em 0.4em;\n",
       "  box-sizing: border-box;\n",
       "  padding-bottom: 0.4em;\n",
       "  background-color: var(--sklearn-color-background);\n",
       "}\n",
       "\n",
       "#sk-container-id-3 div.sk-container {\n",
       "  /* jupyter's `normalize.less` sets `[hidden] { display: none; }`\n",
       "     but bootstrap.min.css set `[hidden] { display: none !important; }`\n",
       "     so we also need the `!important` here to be able to override the\n",
       "     default hidden behavior on the sphinx rendered scikit-learn.org.\n",
       "     See: https://github.com/scikit-learn/scikit-learn/issues/21755 */\n",
       "  display: inline-block !important;\n",
       "  position: relative;\n",
       "}\n",
       "\n",
       "#sk-container-id-3 div.sk-text-repr-fallback {\n",
       "  display: none;\n",
       "}\n",
       "\n",
       "div.sk-parallel-item,\n",
       "div.sk-serial,\n",
       "div.sk-item {\n",
       "  /* draw centered vertical line to link estimators */\n",
       "  background-image: linear-gradient(var(--sklearn-color-text-on-default-background), var(--sklearn-color-text-on-default-background));\n",
       "  background-size: 2px 100%;\n",
       "  background-repeat: no-repeat;\n",
       "  background-position: center center;\n",
       "}\n",
       "\n",
       "/* Parallel-specific style estimator block */\n",
       "\n",
       "#sk-container-id-3 div.sk-parallel-item::after {\n",
       "  content: \"\";\n",
       "  width: 100%;\n",
       "  border-bottom: 2px solid var(--sklearn-color-text-on-default-background);\n",
       "  flex-grow: 1;\n",
       "}\n",
       "\n",
       "#sk-container-id-3 div.sk-parallel {\n",
       "  display: flex;\n",
       "  align-items: stretch;\n",
       "  justify-content: center;\n",
       "  background-color: var(--sklearn-color-background);\n",
       "  position: relative;\n",
       "}\n",
       "\n",
       "#sk-container-id-3 div.sk-parallel-item {\n",
       "  display: flex;\n",
       "  flex-direction: column;\n",
       "}\n",
       "\n",
       "#sk-container-id-3 div.sk-parallel-item:first-child::after {\n",
       "  align-self: flex-end;\n",
       "  width: 50%;\n",
       "}\n",
       "\n",
       "#sk-container-id-3 div.sk-parallel-item:last-child::after {\n",
       "  align-self: flex-start;\n",
       "  width: 50%;\n",
       "}\n",
       "\n",
       "#sk-container-id-3 div.sk-parallel-item:only-child::after {\n",
       "  width: 0;\n",
       "}\n",
       "\n",
       "/* Serial-specific style estimator block */\n",
       "\n",
       "#sk-container-id-3 div.sk-serial {\n",
       "  display: flex;\n",
       "  flex-direction: column;\n",
       "  align-items: center;\n",
       "  background-color: var(--sklearn-color-background);\n",
       "  padding-right: 1em;\n",
       "  padding-left: 1em;\n",
       "}\n",
       "\n",
       "\n",
       "/* Toggleable style: style used for estimator/Pipeline/ColumnTransformer box that is\n",
       "clickable and can be expanded/collapsed.\n",
       "- Pipeline and ColumnTransformer use this feature and define the default style\n",
       "- Estimators will overwrite some part of the style using the `sk-estimator` class\n",
       "*/\n",
       "\n",
       "/* Pipeline and ColumnTransformer style (default) */\n",
       "\n",
       "#sk-container-id-3 div.sk-toggleable {\n",
       "  /* Default theme specific background. It is overwritten whether we have a\n",
       "  specific estimator or a Pipeline/ColumnTransformer */\n",
       "  background-color: var(--sklearn-color-background);\n",
       "}\n",
       "\n",
       "/* Toggleable label */\n",
       "#sk-container-id-3 label.sk-toggleable__label {\n",
       "  cursor: pointer;\n",
       "  display: block;\n",
       "  width: 100%;\n",
       "  margin-bottom: 0;\n",
       "  padding: 0.5em;\n",
       "  box-sizing: border-box;\n",
       "  text-align: center;\n",
       "}\n",
       "\n",
       "#sk-container-id-3 label.sk-toggleable__label-arrow:before {\n",
       "  /* Arrow on the left of the label */\n",
       "  content: \"▸\";\n",
       "  float: left;\n",
       "  margin-right: 0.25em;\n",
       "  color: var(--sklearn-color-icon);\n",
       "}\n",
       "\n",
       "#sk-container-id-3 label.sk-toggleable__label-arrow:hover:before {\n",
       "  color: var(--sklearn-color-text);\n",
       "}\n",
       "\n",
       "/* Toggleable content - dropdown */\n",
       "\n",
       "#sk-container-id-3 div.sk-toggleable__content {\n",
       "  max-height: 0;\n",
       "  max-width: 0;\n",
       "  overflow: hidden;\n",
       "  text-align: left;\n",
       "  /* unfitted */\n",
       "  background-color: var(--sklearn-color-unfitted-level-0);\n",
       "}\n",
       "\n",
       "#sk-container-id-3 div.sk-toggleable__content.fitted {\n",
       "  /* fitted */\n",
       "  background-color: var(--sklearn-color-fitted-level-0);\n",
       "}\n",
       "\n",
       "#sk-container-id-3 div.sk-toggleable__content pre {\n",
       "  margin: 0.2em;\n",
       "  border-radius: 0.25em;\n",
       "  color: var(--sklearn-color-text);\n",
       "  /* unfitted */\n",
       "  background-color: var(--sklearn-color-unfitted-level-0);\n",
       "}\n",
       "\n",
       "#sk-container-id-3 div.sk-toggleable__content.fitted pre {\n",
       "  /* unfitted */\n",
       "  background-color: var(--sklearn-color-fitted-level-0);\n",
       "}\n",
       "\n",
       "#sk-container-id-3 input.sk-toggleable__control:checked~div.sk-toggleable__content {\n",
       "  /* Expand drop-down */\n",
       "  max-height: 200px;\n",
       "  max-width: 100%;\n",
       "  overflow: auto;\n",
       "}\n",
       "\n",
       "#sk-container-id-3 input.sk-toggleable__control:checked~label.sk-toggleable__label-arrow:before {\n",
       "  content: \"▾\";\n",
       "}\n",
       "\n",
       "/* Pipeline/ColumnTransformer-specific style */\n",
       "\n",
       "#sk-container-id-3 div.sk-label input.sk-toggleable__control:checked~label.sk-toggleable__label {\n",
       "  color: var(--sklearn-color-text);\n",
       "  background-color: var(--sklearn-color-unfitted-level-2);\n",
       "}\n",
       "\n",
       "#sk-container-id-3 div.sk-label.fitted input.sk-toggleable__control:checked~label.sk-toggleable__label {\n",
       "  background-color: var(--sklearn-color-fitted-level-2);\n",
       "}\n",
       "\n",
       "/* Estimator-specific style */\n",
       "\n",
       "/* Colorize estimator box */\n",
       "#sk-container-id-3 div.sk-estimator input.sk-toggleable__control:checked~label.sk-toggleable__label {\n",
       "  /* unfitted */\n",
       "  background-color: var(--sklearn-color-unfitted-level-2);\n",
       "}\n",
       "\n",
       "#sk-container-id-3 div.sk-estimator.fitted input.sk-toggleable__control:checked~label.sk-toggleable__label {\n",
       "  /* fitted */\n",
       "  background-color: var(--sklearn-color-fitted-level-2);\n",
       "}\n",
       "\n",
       "#sk-container-id-3 div.sk-label label.sk-toggleable__label,\n",
       "#sk-container-id-3 div.sk-label label {\n",
       "  /* The background is the default theme color */\n",
       "  color: var(--sklearn-color-text-on-default-background);\n",
       "}\n",
       "\n",
       "/* On hover, darken the color of the background */\n",
       "#sk-container-id-3 div.sk-label:hover label.sk-toggleable__label {\n",
       "  color: var(--sklearn-color-text);\n",
       "  background-color: var(--sklearn-color-unfitted-level-2);\n",
       "}\n",
       "\n",
       "/* Label box, darken color on hover, fitted */\n",
       "#sk-container-id-3 div.sk-label.fitted:hover label.sk-toggleable__label.fitted {\n",
       "  color: var(--sklearn-color-text);\n",
       "  background-color: var(--sklearn-color-fitted-level-2);\n",
       "}\n",
       "\n",
       "/* Estimator label */\n",
       "\n",
       "#sk-container-id-3 div.sk-label label {\n",
       "  font-family: monospace;\n",
       "  font-weight: bold;\n",
       "  display: inline-block;\n",
       "  line-height: 1.2em;\n",
       "}\n",
       "\n",
       "#sk-container-id-3 div.sk-label-container {\n",
       "  text-align: center;\n",
       "}\n",
       "\n",
       "/* Estimator-specific */\n",
       "#sk-container-id-3 div.sk-estimator {\n",
       "  font-family: monospace;\n",
       "  border: 1px dotted var(--sklearn-color-border-box);\n",
       "  border-radius: 0.25em;\n",
       "  box-sizing: border-box;\n",
       "  margin-bottom: 0.5em;\n",
       "  /* unfitted */\n",
       "  background-color: var(--sklearn-color-unfitted-level-0);\n",
       "}\n",
       "\n",
       "#sk-container-id-3 div.sk-estimator.fitted {\n",
       "  /* fitted */\n",
       "  background-color: var(--sklearn-color-fitted-level-0);\n",
       "}\n",
       "\n",
       "/* on hover */\n",
       "#sk-container-id-3 div.sk-estimator:hover {\n",
       "  /* unfitted */\n",
       "  background-color: var(--sklearn-color-unfitted-level-2);\n",
       "}\n",
       "\n",
       "#sk-container-id-3 div.sk-estimator.fitted:hover {\n",
       "  /* fitted */\n",
       "  background-color: var(--sklearn-color-fitted-level-2);\n",
       "}\n",
       "\n",
       "/* Specification for estimator info (e.g. \"i\" and \"?\") */\n",
       "\n",
       "/* Common style for \"i\" and \"?\" */\n",
       "\n",
       ".sk-estimator-doc-link,\n",
       "a:link.sk-estimator-doc-link,\n",
       "a:visited.sk-estimator-doc-link {\n",
       "  float: right;\n",
       "  font-size: smaller;\n",
       "  line-height: 1em;\n",
       "  font-family: monospace;\n",
       "  background-color: var(--sklearn-color-background);\n",
       "  border-radius: 1em;\n",
       "  height: 1em;\n",
       "  width: 1em;\n",
       "  text-decoration: none !important;\n",
       "  margin-left: 1ex;\n",
       "  /* unfitted */\n",
       "  border: var(--sklearn-color-unfitted-level-1) 1pt solid;\n",
       "  color: var(--sklearn-color-unfitted-level-1);\n",
       "}\n",
       "\n",
       ".sk-estimator-doc-link.fitted,\n",
       "a:link.sk-estimator-doc-link.fitted,\n",
       "a:visited.sk-estimator-doc-link.fitted {\n",
       "  /* fitted */\n",
       "  border: var(--sklearn-color-fitted-level-1) 1pt solid;\n",
       "  color: var(--sklearn-color-fitted-level-1);\n",
       "}\n",
       "\n",
       "/* On hover */\n",
       "div.sk-estimator:hover .sk-estimator-doc-link:hover,\n",
       ".sk-estimator-doc-link:hover,\n",
       "div.sk-label-container:hover .sk-estimator-doc-link:hover,\n",
       ".sk-estimator-doc-link:hover {\n",
       "  /* unfitted */\n",
       "  background-color: var(--sklearn-color-unfitted-level-3);\n",
       "  color: var(--sklearn-color-background);\n",
       "  text-decoration: none;\n",
       "}\n",
       "\n",
       "div.sk-estimator.fitted:hover .sk-estimator-doc-link.fitted:hover,\n",
       ".sk-estimator-doc-link.fitted:hover,\n",
       "div.sk-label-container:hover .sk-estimator-doc-link.fitted:hover,\n",
       ".sk-estimator-doc-link.fitted:hover {\n",
       "  /* fitted */\n",
       "  background-color: var(--sklearn-color-fitted-level-3);\n",
       "  color: var(--sklearn-color-background);\n",
       "  text-decoration: none;\n",
       "}\n",
       "\n",
       "/* Span, style for the box shown on hovering the info icon */\n",
       ".sk-estimator-doc-link span {\n",
       "  display: none;\n",
       "  z-index: 9999;\n",
       "  position: relative;\n",
       "  font-weight: normal;\n",
       "  right: .2ex;\n",
       "  padding: .5ex;\n",
       "  margin: .5ex;\n",
       "  width: min-content;\n",
       "  min-width: 20ex;\n",
       "  max-width: 50ex;\n",
       "  color: var(--sklearn-color-text);\n",
       "  box-shadow: 2pt 2pt 4pt #999;\n",
       "  /* unfitted */\n",
       "  background: var(--sklearn-color-unfitted-level-0);\n",
       "  border: .5pt solid var(--sklearn-color-unfitted-level-3);\n",
       "}\n",
       "\n",
       ".sk-estimator-doc-link.fitted span {\n",
       "  /* fitted */\n",
       "  background: var(--sklearn-color-fitted-level-0);\n",
       "  border: var(--sklearn-color-fitted-level-3);\n",
       "}\n",
       "\n",
       ".sk-estimator-doc-link:hover span {\n",
       "  display: block;\n",
       "}\n",
       "\n",
       "/* \"?\"-specific style due to the `<a>` HTML tag */\n",
       "\n",
       "#sk-container-id-3 a.estimator_doc_link {\n",
       "  float: right;\n",
       "  font-size: 1rem;\n",
       "  line-height: 1em;\n",
       "  font-family: monospace;\n",
       "  background-color: var(--sklearn-color-background);\n",
       "  border-radius: 1rem;\n",
       "  height: 1rem;\n",
       "  width: 1rem;\n",
       "  text-decoration: none;\n",
       "  /* unfitted */\n",
       "  color: var(--sklearn-color-unfitted-level-1);\n",
       "  border: var(--sklearn-color-unfitted-level-1) 1pt solid;\n",
       "}\n",
       "\n",
       "#sk-container-id-3 a.estimator_doc_link.fitted {\n",
       "  /* fitted */\n",
       "  border: var(--sklearn-color-fitted-level-1) 1pt solid;\n",
       "  color: var(--sklearn-color-fitted-level-1);\n",
       "}\n",
       "\n",
       "/* On hover */\n",
       "#sk-container-id-3 a.estimator_doc_link:hover {\n",
       "  /* unfitted */\n",
       "  background-color: var(--sklearn-color-unfitted-level-3);\n",
       "  color: var(--sklearn-color-background);\n",
       "  text-decoration: none;\n",
       "}\n",
       "\n",
       "#sk-container-id-3 a.estimator_doc_link.fitted:hover {\n",
       "  /* fitted */\n",
       "  background-color: var(--sklearn-color-fitted-level-3);\n",
       "}\n",
       "</style><div id=\"sk-container-id-3\" class=\"sk-top-container\"><div class=\"sk-text-repr-fallback\"><pre>LinearSVC()</pre><b>In a Jupyter environment, please rerun this cell to show the HTML representation or trust the notebook. <br />On GitHub, the HTML representation is unable to render, please try loading this page with nbviewer.org.</b></div><div class=\"sk-container\" hidden><div class=\"sk-item\"><div class=\"sk-estimator fitted sk-toggleable\"><input class=\"sk-toggleable__control sk-hidden--visually\" id=\"sk-estimator-id-3\" type=\"checkbox\" checked><label for=\"sk-estimator-id-3\" class=\"sk-toggleable__label fitted sk-toggleable__label-arrow fitted\">&nbsp;&nbsp;LinearSVC<a class=\"sk-estimator-doc-link fitted\" rel=\"noreferrer\" target=\"_blank\" href=\"https://scikit-learn.org/1.5/modules/generated/sklearn.svm.LinearSVC.html\">?<span>Documentation for LinearSVC</span></a><span class=\"sk-estimator-doc-link fitted\">i<span>Fitted</span></span></label><div class=\"sk-toggleable__content fitted\"><pre>LinearSVC()</pre></div> </div></div></div></div>"
      ],
      "text/plain": [
       "LinearSVC()"
      ]
     },
     "execution_count": 79,
     "metadata": {},
     "output_type": "execute_result"
    }
   ],
   "source": [
    "svm_model = LinearSVC(max_iter=1000)\n",
    "svm_model.fit(X_train_tfidf, y_train)"
   ]
  },
  {
   "cell_type": "markdown",
   "id": "8076dcab-5777-450e-9776-a47f872dfeea",
   "metadata": {},
   "source": [
    "#### Predict"
   ]
  },
  {
   "cell_type": "code",
   "execution_count": 80,
   "id": "4d3df708-c92e-46d0-b426-1480185fcdb3",
   "metadata": {},
   "outputs": [],
   "source": [
    "y_pred_svm = svm_model.predict(X_test_tfidf)"
   ]
  },
  {
   "cell_type": "markdown",
   "id": "39e31589-3167-4565-b90e-e38fc8481bf3",
   "metadata": {},
   "source": [
    "### `Evaluating RANDOM FOREST CLASSIFIER` "
   ]
  },
  {
   "cell_type": "code",
   "execution_count": 81,
   "id": "585d498f-327f-4e8d-a3fe-00f29df0d078",
   "metadata": {},
   "outputs": [
    {
     "name": "stdout",
     "output_type": "stream",
     "text": [
      "Accuracy of Support Vector Machine: 0.9079037034283661\n"
     ]
    }
   ],
   "source": [
    "accuracy_svm = accuracy_score(y_test, y_pred_svm)\n",
    "print(\"Accuracy of Support Vector Machine:\", accuracy_svm)"
   ]
  },
  {
   "cell_type": "markdown",
   "id": "3ebc537d-2b17-41d3-8f74-23e187d6bb7f",
   "metadata": {},
   "source": [
    "<div class=\"alert-success\">\n",
    "Accuracy of 90.79% — and the model is clearly performing well across all three sentiment classes!\n",
    "</div>"
   ]
  },
  {
   "cell_type": "code",
   "execution_count": 82,
   "id": "314371ff-8a20-4581-bc14-a311f47d0ec9",
   "metadata": {},
   "outputs": [
    {
     "name": "stdout",
     "output_type": "stream",
     "text": [
      "\n",
      "Classification Report:\n",
      "              precision    recall  f1-score   support\n",
      "\n",
      "          -1       0.88      0.85      0.87     22987\n",
      "           0       0.93      0.95      0.94     21168\n",
      "           1       0.91      0.92      0.92     36554\n",
      "\n",
      "    accuracy                           0.91     80709\n",
      "   macro avg       0.91      0.91      0.91     80709\n",
      "weighted avg       0.91      0.91      0.91     80709\n",
      "\n"
     ]
    }
   ],
   "source": [
    "print(\"\\nClassification Report:\")\n",
    "print(classification_report(y_test, y_pred_svm))"
   ]
  },
  {
   "cell_type": "code",
   "execution_count": 83,
   "id": "935549a5-7fdc-49f0-b655-92991f8f81f5",
   "metadata": {},
   "outputs": [
    {
     "data": {
      "image/png": "[encoded data removed]",
      "text/plain": [
       "<Figure size 700x500 with 2 Axes>"
      ]
     },
     "metadata": {},
     "output_type": "display_data"
    }
   ],
   "source": [
    "# Confusion Matrix\n",
    "cm_svm = confusion_matrix(y_test, y_pred_svm)\n",
    "plt.figure(figsize=(7,5))\n",
    "sns.heatmap(cm_svm, annot=True, fmt='d', cmap='Blues',\n",
    "            xticklabels=['Negative', 'Neutral', 'Positive'],\n",
    "            yticklabels=['Negative', 'Neutral', 'Positive'])\n",
    "plt.xlabel('Predicted  Value')\n",
    "plt.ylabel('Actual Value')\n",
    "plt.title('SVM Confusion Matrix')\n",
    "plt.show()"
   ]
  },
  {
   "cell_type": "markdown",
   "id": "c2a78fe8-0bf7-43aa-b944-e5ba615bc160",
   "metadata": {},
   "source": [
    "### Multinomial Naive Bayes\n",
    "Multinomial Naive Bayes, which is best for discrete features like TF-IDF."
   ]
  },
  {
   "cell_type": "markdown",
   "id": "b45d1132-4a19-4553-969d-ba3e43c9c80e",
   "metadata": {},
   "source": [
    "<div class=\"alert-info\">\n",
    "Model Four \n",
    "</div>"
   ]
  },
  {
   "cell_type": "code",
   "execution_count": 84,
   "id": "81a3f196-07f2-409f-8790-9a564c197847",
   "metadata": {},
   "outputs": [
    {
     "data": {
      "text/html": [
       "<style>#sk-container-id-4 {\n",
       "  /* Definition of color scheme common for light and dark mode */\n",
       "  --sklearn-color-text: black;\n",
       "  --sklearn-color-line: gray;\n",
       "  /* Definition of color scheme for unfitted estimators */\n",
       "  --sklearn-color-unfitted-level-0: #fff5e6;\n",
       "  --sklearn-color-unfitted-level-1: #f6e4d2;\n",
       "  --sklearn-color-unfitted-level-2: #ffe0b3;\n",
       "  --sklearn-color-unfitted-level-3: chocolate;\n",
       "  /* Definition of color scheme for fitted estimators */\n",
       "  --sklearn-color-fitted-level-0: #f0f8ff;\n",
       "  --sklearn-color-fitted-level-1: #d4ebff;\n",
       "  --sklearn-color-fitted-level-2: #b3dbfd;\n",
       "  --sklearn-color-fitted-level-3: cornflowerblue;\n",
       "\n",
       "  /* Specific color for light theme */\n",
       "  --sklearn-color-text-on-default-background: var(--sg-text-color, var(--theme-code-foreground, var(--jp-content-font-color1, black)));\n",
       "  --sklearn-color-background: var(--sg-background-color, var(--theme-background, var(--jp-layout-color0, white)));\n",
       "  --sklearn-color-border-box: var(--sg-text-color, var(--theme-code-foreground, var(--jp-content-font-color1, black)));\n",
       "  --sklearn-color-icon: #696969;\n",
       "\n",
       "  @media (prefers-color-scheme: dark) {\n",
       "    /* Redefinition of color scheme for dark theme */\n",
       "    --sklearn-color-text-on-default-background: var(--sg-text-color, var(--theme-code-foreground, var(--jp-content-font-color1, white)));\n",
       "    --sklearn-color-background: var(--sg-background-color, var(--theme-background, var(--jp-layout-color0, #111)));\n",
       "    --sklearn-color-border-box: var(--sg-text-color, var(--theme-code-foreground, var(--jp-content-font-color1, white)));\n",
       "    --sklearn-color-icon: #878787;\n",
       "  }\n",
       "}\n",
       "\n",
       "#sk-container-id-4 {\n",
       "  color: var(--sklearn-color-text);\n",
       "}\n",
       "\n",
       "#sk-container-id-4 pre {\n",
       "  padding: 0;\n",
       "}\n",
       "\n",
       "#sk-container-id-4 input.sk-hidden--visually {\n",
       "  border: 0;\n",
       "  clip: rect(1px 1px 1px 1px);\n",
       "  clip: rect(1px, 1px, 1px, 1px);\n",
       "  height: 1px;\n",
       "  margin: -1px;\n",
       "  overflow: hidden;\n",
       "  padding: 0;\n",
       "  position: absolute;\n",
       "  width: 1px;\n",
       "}\n",
       "\n",
       "#sk-container-id-4 div.sk-dashed-wrapped {\n",
       "  border: 1px dashed var(--sklearn-color-line);\n",
       "  margin: 0 0.4em 0.5em 0.4em;\n",
       "  box-sizing: border-box;\n",
       "  padding-bottom: 0.4em;\n",
       "  background-color: var(--sklearn-color-background);\n",
       "}\n",
       "\n",
       "#sk-container-id-4 div.sk-container {\n",
       "  /* jupyter's `normalize.less` sets `[hidden] { display: none; }`\n",
       "     but bootstrap.min.css set `[hidden] { display: none !important; }`\n",
       "     so we also need the `!important` here to be able to override the\n",
       "     default hidden behavior on the sphinx rendered scikit-learn.org.\n",
       "     See: https://github.com/scikit-learn/scikit-learn/issues/21755 */\n",
       "  display: inline-block !important;\n",
       "  position: relative;\n",
       "}\n",
       "\n",
       "#sk-container-id-4 div.sk-text-repr-fallback {\n",
       "  display: none;\n",
       "}\n",
       "\n",
       "div.sk-parallel-item,\n",
       "div.sk-serial,\n",
       "div.sk-item {\n",
       "  /* draw centered vertical line to link estimators */\n",
       "  background-image: linear-gradient(var(--sklearn-color-text-on-default-background), var(--sklearn-color-text-on-default-background));\n",
       "  background-size: 2px 100%;\n",
       "  background-repeat: no-repeat;\n",
       "  background-position: center center;\n",
       "}\n",
       "\n",
       "/* Parallel-specific style estimator block */\n",
       "\n",
       "#sk-container-id-4 div.sk-parallel-item::after {\n",
       "  content: \"\";\n",
       "  width: 100%;\n",
       "  border-bottom: 2px solid var(--sklearn-color-text-on-default-background);\n",
       "  flex-grow: 1;\n",
       "}\n",
       "\n",
       "#sk-container-id-4 div.sk-parallel {\n",
       "  display: flex;\n",
       "  align-items: stretch;\n",
       "  justify-content: center;\n",
       "  background-color: var(--sklearn-color-background);\n",
       "  position: relative;\n",
       "}\n",
       "\n",
       "#sk-container-id-4 div.sk-parallel-item {\n",
       "  display: flex;\n",
       "  flex-direction: column;\n",
       "}\n",
       "\n",
       "#sk-container-id-4 div.sk-parallel-item:first-child::after {\n",
       "  align-self: flex-end;\n",
       "  width: 50%;\n",
       "}\n",
       "\n",
       "#sk-container-id-4 div.sk-parallel-item:last-child::after {\n",
       "  align-self: flex-start;\n",
       "  width: 50%;\n",
       "}\n",
       "\n",
       "#sk-container-id-4 div.sk-parallel-item:only-child::after {\n",
       "  width: 0;\n",
       "}\n",
       "\n",
       "/* Serial-specific style estimator block */\n",
       "\n",
       "#sk-container-id-4 div.sk-serial {\n",
       "  display: flex;\n",
       "  flex-direction: column;\n",
       "  align-items: center;\n",
       "  background-color: var(--sklearn-color-background);\n",
       "  padding-right: 1em;\n",
       "  padding-left: 1em;\n",
       "}\n",
       "\n",
       "\n",
       "/* Toggleable style: style used for estimator/Pipeline/ColumnTransformer box that is\n",
       "clickable and can be expanded/collapsed.\n",
       "- Pipeline and ColumnTransformer use this feature and define the default style\n",
       "- Estimators will overwrite some part of the style using the `sk-estimator` class\n",
       "*/\n",
       "\n",
       "/* Pipeline and ColumnTransformer style (default) */\n",
       "\n",
       "#sk-container-id-4 div.sk-toggleable {\n",
       "  /* Default theme specific background. It is overwritten whether we have a\n",
       "  specific estimator or a Pipeline/ColumnTransformer */\n",
       "  background-color: var(--sklearn-color-background);\n",
       "}\n",
       "\n",
       "/* Toggleable label */\n",
       "#sk-container-id-4 label.sk-toggleable__label {\n",
       "  cursor: pointer;\n",
       "  display: block;\n",
       "  width: 100%;\n",
       "  margin-bottom: 0;\n",
       "  padding: 0.5em;\n",
       "  box-sizing: border-box;\n",
       "  text-align: center;\n",
       "}\n",
       "\n",
       "#sk-container-id-4 label.sk-toggleable__label-arrow:before {\n",
       "  /* Arrow on the left of the label */\n",
       "  content: \"▸\";\n",
       "  float: left;\n",
       "  margin-right: 0.25em;\n",
       "  color: var(--sklearn-color-icon);\n",
       "}\n",
       "\n",
       "#sk-container-id-4 label.sk-toggleable__label-arrow:hover:before {\n",
       "  color: var(--sklearn-color-text);\n",
       "}\n",
       "\n",
       "/* Toggleable content - dropdown */\n",
       "\n",
       "#sk-container-id-4 div.sk-toggleable__content {\n",
       "  max-height: 0;\n",
       "  max-width: 0;\n",
       "  overflow: hidden;\n",
       "  text-align: left;\n",
       "  /* unfitted */\n",
       "  background-color: var(--sklearn-color-unfitted-level-0);\n",
       "}\n",
       "\n",
       "#sk-container-id-4 div.sk-toggleable__content.fitted {\n",
       "  /* fitted */\n",
       "  background-color: var(--sklearn-color-fitted-level-0);\n",
       "}\n",
       "\n",
       "#sk-container-id-4 div.sk-toggleable__content pre {\n",
       "  margin: 0.2em;\n",
       "  border-radius: 0.25em;\n",
       "  color: var(--sklearn-color-text);\n",
       "  /* unfitted */\n",
       "  background-color: var(--sklearn-color-unfitted-level-0);\n",
       "}\n",
       "\n",
       "#sk-container-id-4 div.sk-toggleable__content.fitted pre {\n",
       "  /* unfitted */\n",
       "  background-color: var(--sklearn-color-fitted-level-0);\n",
       "}\n",
       "\n",
       "#sk-container-id-4 input.sk-toggleable__control:checked~div.sk-toggleable__content {\n",
       "  /* Expand drop-down */\n",
       "  max-height: 200px;\n",
       "  max-width: 100%;\n",
       "  overflow: auto;\n",
       "}\n",
       "\n",
       "#sk-container-id-4 input.sk-toggleable__control:checked~label.sk-toggleable__label-arrow:before {\n",
       "  content: \"▾\";\n",
       "}\n",
       "\n",
       "/* Pipeline/ColumnTransformer-specific style */\n",
       "\n",
       "#sk-container-id-4 div.sk-label input.sk-toggleable__control:checked~label.sk-toggleable__label {\n",
       "  color: var(--sklearn-color-text);\n",
       "  background-color: var(--sklearn-color-unfitted-level-2);\n",
       "}\n",
       "\n",
       "#sk-container-id-4 div.sk-label.fitted input.sk-toggleable__control:checked~label.sk-toggleable__label {\n",
       "  background-color: var(--sklearn-color-fitted-level-2);\n",
       "}\n",
       "\n",
       "/* Estimator-specific style */\n",
       "\n",
       "/* Colorize estimator box */\n",
       "#sk-container-id-4 div.sk-estimator input.sk-toggleable__control:checked~label.sk-toggleable__label {\n",
       "  /* unfitted */\n",
       "  background-color: var(--sklearn-color-unfitted-level-2);\n",
       "}\n",
       "\n",
       "#sk-container-id-4 div.sk-estimator.fitted input.sk-toggleable__control:checked~label.sk-toggleable__label {\n",
       "  /* fitted */\n",
       "  background-color: var(--sklearn-color-fitted-level-2);\n",
       "}\n",
       "\n",
       "#sk-container-id-4 div.sk-label label.sk-toggleable__label,\n",
       "#sk-container-id-4 div.sk-label label {\n",
       "  /* The background is the default theme color */\n",
       "  color: var(--sklearn-color-text-on-default-background);\n",
       "}\n",
       "\n",
       "/* On hover, darken the color of the background */\n",
       "#sk-container-id-4 div.sk-label:hover label.sk-toggleable__label {\n",
       "  color: var(--sklearn-color-text);\n",
       "  background-color: var(--sklearn-color-unfitted-level-2);\n",
       "}\n",
       "\n",
       "/* Label box, darken color on hover, fitted */\n",
       "#sk-container-id-4 div.sk-label.fitted:hover label.sk-toggleable__label.fitted {\n",
       "  color: var(--sklearn-color-text);\n",
       "  background-color: var(--sklearn-color-fitted-level-2);\n",
       "}\n",
       "\n",
       "/* Estimator label */\n",
       "\n",
       "#sk-container-id-4 div.sk-label label {\n",
       "  font-family: monospace;\n",
       "  font-weight: bold;\n",
       "  display: inline-block;\n",
       "  line-height: 1.2em;\n",
       "}\n",
       "\n",
       "#sk-container-id-4 div.sk-label-container {\n",
       "  text-align: center;\n",
       "}\n",
       "\n",
       "/* Estimator-specific */\n",
       "#sk-container-id-4 div.sk-estimator {\n",
       "  font-family: monospace;\n",
       "  border: 1px dotted var(--sklearn-color-border-box);\n",
       "  border-radius: 0.25em;\n",
       "  box-sizing: border-box;\n",
       "  margin-bottom: 0.5em;\n",
       "  /* unfitted */\n",
       "  background-color: var(--sklearn-color-unfitted-level-0);\n",
       "}\n",
       "\n",
       "#sk-container-id-4 div.sk-estimator.fitted {\n",
       "  /* fitted */\n",
       "  background-color: var(--sklearn-color-fitted-level-0);\n",
       "}\n",
       "\n",
       "/* on hover */\n",
       "#sk-container-id-4 div.sk-estimator:hover {\n",
       "  /* unfitted */\n",
       "  background-color: var(--sklearn-color-unfitted-level-2);\n",
       "}\n",
       "\n",
       "#sk-container-id-4 div.sk-estimator.fitted:hover {\n",
       "  /* fitted */\n",
       "  background-color: var(--sklearn-color-fitted-level-2);\n",
       "}\n",
       "\n",
       "/* Specification for estimator info (e.g. \"i\" and \"?\") */\n",
       "\n",
       "/* Common style for \"i\" and \"?\" */\n",
       "\n",
       ".sk-estimator-doc-link,\n",
       "a:link.sk-estimator-doc-link,\n",
       "a:visited.sk-estimator-doc-link {\n",
       "  float: right;\n",
       "  font-size: smaller;\n",
       "  line-height: 1em;\n",
       "  font-family: monospace;\n",
       "  background-color: var(--sklearn-color-background);\n",
       "  border-radius: 1em;\n",
       "  height: 1em;\n",
       "  width: 1em;\n",
       "  text-decoration: none !important;\n",
       "  margin-left: 1ex;\n",
       "  /* unfitted */\n",
       "  border: var(--sklearn-color-unfitted-level-1) 1pt solid;\n",
       "  color: var(--sklearn-color-unfitted-level-1);\n",
       "}\n",
       "\n",
       ".sk-estimator-doc-link.fitted,\n",
       "a:link.sk-estimator-doc-link.fitted,\n",
       "a:visited.sk-estimator-doc-link.fitted {\n",
       "  /* fitted */\n",
       "  border: var(--sklearn-color-fitted-level-1) 1pt solid;\n",
       "  color: var(--sklearn-color-fitted-level-1);\n",
       "}\n",
       "\n",
       "/* On hover */\n",
       "div.sk-estimator:hover .sk-estimator-doc-link:hover,\n",
       ".sk-estimator-doc-link:hover,\n",
       "div.sk-label-container:hover .sk-estimator-doc-link:hover,\n",
       ".sk-estimator-doc-link:hover {\n",
       "  /* unfitted */\n",
       "  background-color: var(--sklearn-color-unfitted-level-3);\n",
       "  color: var(--sklearn-color-background);\n",
       "  text-decoration: none;\n",
       "}\n",
       "\n",
       "div.sk-estimator.fitted:hover .sk-estimator-doc-link.fitted:hover,\n",
       ".sk-estimator-doc-link.fitted:hover,\n",
       "div.sk-label-container:hover .sk-estimator-doc-link.fitted:hover,\n",
       ".sk-estimator-doc-link.fitted:hover {\n",
       "  /* fitted */\n",
       "  background-color: var(--sklearn-color-fitted-level-3);\n",
       "  color: var(--sklearn-color-background);\n",
       "  text-decoration: none;\n",
       "}\n",
       "\n",
       "/* Span, style for the box shown on hovering the info icon */\n",
       ".sk-estimator-doc-link span {\n",
       "  display: none;\n",
       "  z-index: 9999;\n",
       "  position: relative;\n",
       "  font-weight: normal;\n",
       "  right: .2ex;\n",
       "  padding: .5ex;\n",
       "  margin: .5ex;\n",
       "  width: min-content;\n",
       "  min-width: 20ex;\n",
       "  max-width: 50ex;\n",
       "  color: var(--sklearn-color-text);\n",
       "  box-shadow: 2pt 2pt 4pt #999;\n",
       "  /* unfitted */\n",
       "  background: var(--sklearn-color-unfitted-level-0);\n",
       "  border: .5pt solid var(--sklearn-color-unfitted-level-3);\n",
       "}\n",
       "\n",
       ".sk-estimator-doc-link.fitted span {\n",
       "  /* fitted */\n",
       "  background: var(--sklearn-color-fitted-level-0);\n",
       "  border: var(--sklearn-color-fitted-level-3);\n",
       "}\n",
       "\n",
       ".sk-estimator-doc-link:hover span {\n",
       "  display: block;\n",
       "}\n",
       "\n",
       "/* \"?\"-specific style due to the `<a>` HTML tag */\n",
       "\n",
       "#sk-container-id-4 a.estimator_doc_link {\n",
       "  float: right;\n",
       "  font-size: 1rem;\n",
       "  line-height: 1em;\n",
       "  font-family: monospace;\n",
       "  background-color: var(--sklearn-color-background);\n",
       "  border-radius: 1rem;\n",
       "  height: 1rem;\n",
       "  width: 1rem;\n",
       "  text-decoration: none;\n",
       "  /* unfitted */\n",
       "  color: var(--sklearn-color-unfitted-level-1);\n",
       "  border: var(--sklearn-color-unfitted-level-1) 1pt solid;\n",
       "}\n",
       "\n",
       "#sk-container-id-4 a.estimator_doc_link.fitted {\n",
       "  /* fitted */\n",
       "  border: var(--sklearn-color-fitted-level-1) 1pt solid;\n",
       "  color: var(--sklearn-color-fitted-level-1);\n",
       "}\n",
       "\n",
       "/* On hover */\n",
       "#sk-container-id-4 a.estimator_doc_link:hover {\n",
       "  /* unfitted */\n",
       "  background-color: var(--sklearn-color-unfitted-level-3);\n",
       "  color: var(--sklearn-color-background);\n",
       "  text-decoration: none;\n",
       "}\n",
       "\n",
       "#sk-container-id-4 a.estimator_doc_link.fitted:hover {\n",
       "  /* fitted */\n",
       "  background-color: var(--sklearn-color-fitted-level-3);\n",
       "}\n",
       "</style><div id=\"sk-container-id-4\" class=\"sk-top-container\"><div class=\"sk-text-repr-fallback\"><pre>MultinomialNB()</pre><b>In a Jupyter environment, please rerun this cell to show the HTML representation or trust the notebook. <br />On GitHub, the HTML representation is unable to render, please try loading this page with nbviewer.org.</b></div><div class=\"sk-container\" hidden><div class=\"sk-item\"><div class=\"sk-estimator fitted sk-toggleable\"><input class=\"sk-toggleable__control sk-hidden--visually\" id=\"sk-estimator-id-4\" type=\"checkbox\" checked><label for=\"sk-estimator-id-4\" class=\"sk-toggleable__label fitted sk-toggleable__label-arrow fitted\">&nbsp;&nbsp;MultinomialNB<a class=\"sk-estimator-doc-link fitted\" rel=\"noreferrer\" target=\"_blank\" href=\"https://scikit-learn.org/1.5/modules/generated/sklearn.naive_bayes.MultinomialNB.html\">?<span>Documentation for MultinomialNB</span></a><span class=\"sk-estimator-doc-link fitted\">i<span>Fitted</span></span></label><div class=\"sk-toggleable__content fitted\"><pre>MultinomialNB()</pre></div> </div></div></div></div>"
      ],
      "text/plain": [
       "MultinomialNB()"
      ]
     },
     "execution_count": 84,
     "metadata": {},
     "output_type": "execute_result"
    }
   ],
   "source": [
    "# Initialize and train the model\n",
    "nb_model = MultinomialNB()\n",
    "nb_model.fit(X_train_tfidf, y_train)"
   ]
  },
  {
   "cell_type": "code",
   "execution_count": 85,
   "id": "6e1c4658-61b3-4287-85dc-430661c429b3",
   "metadata": {},
   "outputs": [],
   "source": [
    "# Predict\n",
    "y_pred_nb = nb_model.predict(X_test_tfidf)"
   ]
  },
  {
   "cell_type": "code",
   "execution_count": 86,
   "id": "9424adab-e921-48d6-9a3c-7538ceec130c",
   "metadata": {},
   "outputs": [
    {
     "name": "stdout",
     "output_type": "stream",
     "text": [
      "Accuracy: 0.7388023640486191\n"
     ]
    }
   ],
   "source": [
    "# Evaluation\n",
    "accuracy_nb = accuracy_score(y_test, y_pred_nb)\n",
    "print(\"Accuracy:\", accuracy_nb)"
   ]
  },
  {
   "cell_type": "markdown",
   "id": "37323055-77e5-4651-b075-4c99cad76fe3",
   "metadata": {},
   "source": [
    "<div class=\"alert-success\">\n",
    "Accuracy of 73.88% — and the model is clearly performing well across all three sentiment classes!\n",
    "</div>"
   ]
  },
  {
   "cell_type": "code",
   "execution_count": 87,
   "id": "fb7c76e3-fbe5-42bb-b5ad-5b80f6161e05",
   "metadata": {},
   "outputs": [
    {
     "name": "stdout",
     "output_type": "stream",
     "text": [
      "\n",
      "Classification Report:\n",
      "              precision    recall  f1-score   support\n",
      "\n",
      "          -1       0.80      0.69      0.74     22987\n",
      "           0       0.83      0.51      0.63     21168\n",
      "           1       0.69      0.90      0.78     36554\n",
      "\n",
      "    accuracy                           0.74     80709\n",
      "   macro avg       0.77      0.70      0.72     80709\n",
      "weighted avg       0.76      0.74      0.73     80709\n",
      "\n"
     ]
    }
   ],
   "source": [
    "print(\"\\nClassification Report:\")\n",
    "print(classification_report(y_test, y_pred_nb))"
   ]
  },
  {
   "cell_type": "code",
   "execution_count": 88,
   "id": "f8b3ae72-a869-4739-8ba0-59d95a3b9255",
   "metadata": {},
   "outputs": [
    {
     "data": {
      "image/png": "[encoded data removed]",
      "text/plain": [
       "<Figure size 700x500 with 2 Axes>"
      ]
     },
     "metadata": {},
     "output_type": "display_data"
    }
   ],
   "source": [
    "# Confusion Matrix\n",
    "cm_nb = confusion_matrix(y_test, y_pred_nb)\n",
    "plt.figure(figsize=(7,5))\n",
    "sns.heatmap(cm_nb, annot=True, fmt='d', cmap='Purples',\n",
    "            xticklabels=['Negative', 'Neutral', 'Positive'],\n",
    "            yticklabels=['Negative', 'Neutral', 'Positive'])\n",
    "plt.xlabel('Predicted Value')\n",
    "plt.ylabel('Actual Value')\n",
    "plt.title('NaiveBayes Confusion Matrix')\n",
    "plt.show()"
   ]
  },
  {
   "cell_type": "markdown",
   "id": "0bae8658-bdbd-41d2-8ba5-255b3543bf60",
   "metadata": {},
   "source": [
    "### K-Nearest Neighbors (KNN)\n",
    "KNN is a simple and intuitive algorithm that classifies a sample based on the majority label among its k nearest neighbors in the feature space. It can be a bit slower on large datasets, but it’s good to test for comparison."
   ]
  },
  {
   "cell_type": "markdown",
   "id": "210a9e8b-b325-477c-821c-f81c9b073f0a",
   "metadata": {},
   "source": [
    "<div class=\"alert-info\">\n",
    "Model Four \n",
    "</div>"
   ]
  },
  {
   "cell_type": "code",
   "execution_count": 89,
   "id": "a2f6dd47-1097-4331-83c4-7ed6cdf99823",
   "metadata": {},
   "outputs": [
    {
     "data": {
      "text/html": [
       "<style>#sk-container-id-5 {\n",
       "  /* Definition of color scheme common for light and dark mode */\n",
       "  --sklearn-color-text: black;\n",
       "  --sklearn-color-line: gray;\n",
       "  /* Definition of color scheme for unfitted estimators */\n",
       "  --sklearn-color-unfitted-level-0: #fff5e6;\n",
       "  --sklearn-color-unfitted-level-1: #f6e4d2;\n",
       "  --sklearn-color-unfitted-level-2: #ffe0b3;\n",
       "  --sklearn-color-unfitted-level-3: chocolate;\n",
       "  /* Definition of color scheme for fitted estimators */\n",
       "  --sklearn-color-fitted-level-0: #f0f8ff;\n",
       "  --sklearn-color-fitted-level-1: #d4ebff;\n",
       "  --sklearn-color-fitted-level-2: #b3dbfd;\n",
       "  --sklearn-color-fitted-level-3: cornflowerblue;\n",
       "\n",
       "  /* Specific color for light theme */\n",
       "  --sklearn-color-text-on-default-background: var(--sg-text-color, var(--theme-code-foreground, var(--jp-content-font-color1, black)));\n",
       "  --sklearn-color-background: var(--sg-background-color, var(--theme-background, var(--jp-layout-color0, white)));\n",
       "  --sklearn-color-border-box: var(--sg-text-color, var(--theme-code-foreground, var(--jp-content-font-color1, black)));\n",
       "  --sklearn-color-icon: #696969;\n",
       "\n",
       "  @media (prefers-color-scheme: dark) {\n",
       "    /* Redefinition of color scheme for dark theme */\n",
       "    --sklearn-color-text-on-default-background: var(--sg-text-color, var(--theme-code-foreground, var(--jp-content-font-color1, white)));\n",
       "    --sklearn-color-background: var(--sg-background-color, var(--theme-background, var(--jp-layout-color0, #111)));\n",
       "    --sklearn-color-border-box: var(--sg-text-color, var(--theme-code-foreground, var(--jp-content-font-color1, white)));\n",
       "    --sklearn-color-icon: #878787;\n",
       "  }\n",
       "}\n",
       "\n",
       "#sk-container-id-5 {\n",
       "  color: var(--sklearn-color-text);\n",
       "}\n",
       "\n",
       "#sk-container-id-5 pre {\n",
       "  padding: 0;\n",
       "}\n",
       "\n",
       "#sk-container-id-5 input.sk-hidden--visually {\n",
       "  border: 0;\n",
       "  clip: rect(1px 1px 1px 1px);\n",
       "  clip: rect(1px, 1px, 1px, 1px);\n",
       "  height: 1px;\n",
       "  margin: -1px;\n",
       "  overflow: hidden;\n",
       "  padding: 0;\n",
       "  position: absolute;\n",
       "  width: 1px;\n",
       "}\n",
       "\n",
       "#sk-container-id-5 div.sk-dashed-wrapped {\n",
       "  border: 1px dashed var(--sklearn-color-line);\n",
       "  margin: 0 0.4em 0.5em 0.4em;\n",
       "  box-sizing: border-box;\n",
       "  padding-bottom: 0.4em;\n",
       "  background-color: var(--sklearn-color-background);\n",
       "}\n",
       "\n",
       "#sk-container-id-5 div.sk-container {\n",
       "  /* jupyter's `normalize.less` sets `[hidden] { display: none; }`\n",
       "     but bootstrap.min.css set `[hidden] { display: none !important; }`\n",
       "     so we also need the `!important` here to be able to override the\n",
       "     default hidden behavior on the sphinx rendered scikit-learn.org.\n",
       "     See: https://github.com/scikit-learn/scikit-learn/issues/21755 */\n",
       "  display: inline-block !important;\n",
       "  position: relative;\n",
       "}\n",
       "\n",
       "#sk-container-id-5 div.sk-text-repr-fallback {\n",
       "  display: none;\n",
       "}\n",
       "\n",
       "div.sk-parallel-item,\n",
       "div.sk-serial,\n",
       "div.sk-item {\n",
       "  /* draw centered vertical line to link estimators */\n",
       "  background-image: linear-gradient(var(--sklearn-color-text-on-default-background), var(--sklearn-color-text-on-default-background));\n",
       "  background-size: 2px 100%;\n",
       "  background-repeat: no-repeat;\n",
       "  background-position: center center;\n",
       "}\n",
       "\n",
       "/* Parallel-specific style estimator block */\n",
       "\n",
       "#sk-container-id-5 div.sk-parallel-item::after {\n",
       "  content: \"\";\n",
       "  width: 100%;\n",
       "  border-bottom: 2px solid var(--sklearn-color-text-on-default-background);\n",
       "  flex-grow: 1;\n",
       "}\n",
       "\n",
       "#sk-container-id-5 div.sk-parallel {\n",
       "  display: flex;\n",
       "  align-items: stretch;\n",
       "  justify-content: center;\n",
       "  background-color: var(--sklearn-color-background);\n",
       "  position: relative;\n",
       "}\n",
       "\n",
       "#sk-container-id-5 div.sk-parallel-item {\n",
       "  display: flex;\n",
       "  flex-direction: column;\n",
       "}\n",
       "\n",
       "#sk-container-id-5 div.sk-parallel-item:first-child::after {\n",
       "  align-self: flex-end;\n",
       "  width: 50%;\n",
       "}\n",
       "\n",
       "#sk-container-id-5 div.sk-parallel-item:last-child::after {\n",
       "  align-self: flex-start;\n",
       "  width: 50%;\n",
       "}\n",
       "\n",
       "#sk-container-id-5 div.sk-parallel-item:only-child::after {\n",
       "  width: 0;\n",
       "}\n",
       "\n",
       "/* Serial-specific style estimator block */\n",
       "\n",
       "#sk-container-id-5 div.sk-serial {\n",
       "  display: flex;\n",
       "  flex-direction: column;\n",
       "  align-items: center;\n",
       "  background-color: var(--sklearn-color-background);\n",
       "  padding-right: 1em;\n",
       "  padding-left: 1em;\n",
       "}\n",
       "\n",
       "\n",
       "/* Toggleable style: style used for estimator/Pipeline/ColumnTransformer box that is\n",
       "clickable and can be expanded/collapsed.\n",
       "- Pipeline and ColumnTransformer use this feature and define the default style\n",
       "- Estimators will overwrite some part of the style using the `sk-estimator` class\n",
       "*/\n",
       "\n",
       "/* Pipeline and ColumnTransformer style (default) */\n",
       "\n",
       "#sk-container-id-5 div.sk-toggleable {\n",
       "  /* Default theme specific background. It is overwritten whether we have a\n",
       "  specific estimator or a Pipeline/ColumnTransformer */\n",
       "  background-color: var(--sklearn-color-background);\n",
       "}\n",
       "\n",
       "/* Toggleable label */\n",
       "#sk-container-id-5 label.sk-toggleable__label {\n",
       "  cursor: pointer;\n",
       "  display: block;\n",
       "  width: 100%;\n",
       "  margin-bottom: 0;\n",
       "  padding: 0.5em;\n",
       "  box-sizing: border-box;\n",
       "  text-align: center;\n",
       "}\n",
       "\n",
       "#sk-container-id-5 label.sk-toggleable__label-arrow:before {\n",
       "  /* Arrow on the left of the label */\n",
       "  content: \"▸\";\n",
       "  float: left;\n",
       "  margin-right: 0.25em;\n",
       "  color: var(--sklearn-color-icon);\n",
       "}\n",
       "\n",
       "#sk-container-id-5 label.sk-toggleable__label-arrow:hover:before {\n",
       "  color: var(--sklearn-color-text);\n",
       "}\n",
       "\n",
       "/* Toggleable content - dropdown */\n",
       "\n",
       "#sk-container-id-5 div.sk-toggleable__content {\n",
       "  max-height: 0;\n",
       "  max-width: 0;\n",
       "  overflow: hidden;\n",
       "  text-align: left;\n",
       "  /* unfitted */\n",
       "  background-color: var(--sklearn-color-unfitted-level-0);\n",
       "}\n",
       "\n",
       "#sk-container-id-5 div.sk-toggleable__content.fitted {\n",
       "  /* fitted */\n",
       "  background-color: var(--sklearn-color-fitted-level-0);\n",
       "}\n",
       "\n",
       "#sk-container-id-5 div.sk-toggleable__content pre {\n",
       "  margin: 0.2em;\n",
       "  border-radius: 0.25em;\n",
       "  color: var(--sklearn-color-text);\n",
       "  /* unfitted */\n",
       "  background-color: var(--sklearn-color-unfitted-level-0);\n",
       "}\n",
       "\n",
       "#sk-container-id-5 div.sk-toggleable__content.fitted pre {\n",
       "  /* unfitted */\n",
       "  background-color: var(--sklearn-color-fitted-level-0);\n",
       "}\n",
       "\n",
       "#sk-container-id-5 input.sk-toggleable__control:checked~div.sk-toggleable__content {\n",
       "  /* Expand drop-down */\n",
       "  max-height: 200px;\n",
       "  max-width: 100%;\n",
       "  overflow: auto;\n",
       "}\n",
       "\n",
       "#sk-container-id-5 input.sk-toggleable__control:checked~label.sk-toggleable__label-arrow:before {\n",
       "  content: \"▾\";\n",
       "}\n",
       "\n",
       "/* Pipeline/ColumnTransformer-specific style */\n",
       "\n",
       "#sk-container-id-5 div.sk-label input.sk-toggleable__control:checked~label.sk-toggleable__label {\n",
       "  color: var(--sklearn-color-text);\n",
       "  background-color: var(--sklearn-color-unfitted-level-2);\n",
       "}\n",
       "\n",
       "#sk-container-id-5 div.sk-label.fitted input.sk-toggleable__control:checked~label.sk-toggleable__label {\n",
       "  background-color: var(--sklearn-color-fitted-level-2);\n",
       "}\n",
       "\n",
       "/* Estimator-specific style */\n",
       "\n",
       "/* Colorize estimator box */\n",
       "#sk-container-id-5 div.sk-estimator input.sk-toggleable__control:checked~label.sk-toggleable__label {\n",
       "  /* unfitted */\n",
       "  background-color: var(--sklearn-color-unfitted-level-2);\n",
       "}\n",
       "\n",
       "#sk-container-id-5 div.sk-estimator.fitted input.sk-toggleable__control:checked~label.sk-toggleable__label {\n",
       "  /* fitted */\n",
       "  background-color: var(--sklearn-color-fitted-level-2);\n",
       "}\n",
       "\n",
       "#sk-container-id-5 div.sk-label label.sk-toggleable__label,\n",
       "#sk-container-id-5 div.sk-label label {\n",
       "  /* The background is the default theme color */\n",
       "  color: var(--sklearn-color-text-on-default-background);\n",
       "}\n",
       "\n",
       "/* On hover, darken the color of the background */\n",
       "#sk-container-id-5 div.sk-label:hover label.sk-toggleable__label {\n",
       "  color: var(--sklearn-color-text);\n",
       "  background-color: var(--sklearn-color-unfitted-level-2);\n",
       "}\n",
       "\n",
       "/* Label box, darken color on hover, fitted */\n",
       "#sk-container-id-5 div.sk-label.fitted:hover label.sk-toggleable__label.fitted {\n",
       "  color: var(--sklearn-color-text);\n",
       "  background-color: var(--sklearn-color-fitted-level-2);\n",
       "}\n",
       "\n",
       "/* Estimator label */\n",
       "\n",
       "#sk-container-id-5 div.sk-label label {\n",
       "  font-family: monospace;\n",
       "  font-weight: bold;\n",
       "  display: inline-block;\n",
       "  line-height: 1.2em;\n",
       "}\n",
       "\n",
       "#sk-container-id-5 div.sk-label-container {\n",
       "  text-align: center;\n",
       "}\n",
       "\n",
       "/* Estimator-specific */\n",
       "#sk-container-id-5 div.sk-estimator {\n",
       "  font-family: monospace;\n",
       "  border: 1px dotted var(--sklearn-color-border-box);\n",
       "  border-radius: 0.25em;\n",
       "  box-sizing: border-box;\n",
       "  margin-bottom: 0.5em;\n",
       "  /* unfitted */\n",
       "  background-color: var(--sklearn-color-unfitted-level-0);\n",
       "}\n",
       "\n",
       "#sk-container-id-5 div.sk-estimator.fitted {\n",
       "  /* fitted */\n",
       "  background-color: var(--sklearn-color-fitted-level-0);\n",
       "}\n",
       "\n",
       "/* on hover */\n",
       "#sk-container-id-5 div.sk-estimator:hover {\n",
       "  /* unfitted */\n",
       "  background-color: var(--sklearn-color-unfitted-level-2);\n",
       "}\n",
       "\n",
       "#sk-container-id-5 div.sk-estimator.fitted:hover {\n",
       "  /* fitted */\n",
       "  background-color: var(--sklearn-color-fitted-level-2);\n",
       "}\n",
       "\n",
       "/* Specification for estimator info (e.g. \"i\" and \"?\") */\n",
       "\n",
       "/* Common style for \"i\" and \"?\" */\n",
       "\n",
       ".sk-estimator-doc-link,\n",
       "a:link.sk-estimator-doc-link,\n",
       "a:visited.sk-estimator-doc-link {\n",
       "  float: right;\n",
       "  font-size: smaller;\n",
       "  line-height: 1em;\n",
       "  font-family: monospace;\n",
       "  background-color: var(--sklearn-color-background);\n",
       "  border-radius: 1em;\n",
       "  height: 1em;\n",
       "  width: 1em;\n",
       "  text-decoration: none !important;\n",
       "  margin-left: 1ex;\n",
       "  /* unfitted */\n",
       "  border: var(--sklearn-color-unfitted-level-1) 1pt solid;\n",
       "  color: var(--sklearn-color-unfitted-level-1);\n",
       "}\n",
       "\n",
       ".sk-estimator-doc-link.fitted,\n",
       "a:link.sk-estimator-doc-link.fitted,\n",
       "a:visited.sk-estimator-doc-link.fitted {\n",
       "  /* fitted */\n",
       "  border: var(--sklearn-color-fitted-level-1) 1pt solid;\n",
       "  color: var(--sklearn-color-fitted-level-1);\n",
       "}\n",
       "\n",
       "/* On hover */\n",
       "div.sk-estimator:hover .sk-estimator-doc-link:hover,\n",
       ".sk-estimator-doc-link:hover,\n",
       "div.sk-label-container:hover .sk-estimator-doc-link:hover,\n",
       ".sk-estimator-doc-link:hover {\n",
       "  /* unfitted */\n",
       "  background-color: var(--sklearn-color-unfitted-level-3);\n",
       "  color: var(--sklearn-color-background);\n",
       "  text-decoration: none;\n",
       "}\n",
       "\n",
       "div.sk-estimator.fitted:hover .sk-estimator-doc-link.fitted:hover,\n",
       ".sk-estimator-doc-link.fitted:hover,\n",
       "div.sk-label-container:hover .sk-estimator-doc-link.fitted:hover,\n",
       ".sk-estimator-doc-link.fitted:hover {\n",
       "  /* fitted */\n",
       "  background-color: var(--sklearn-color-fitted-level-3);\n",
       "  color: var(--sklearn-color-background);\n",
       "  text-decoration: none;\n",
       "}\n",
       "\n",
       "/* Span, style for the box shown on hovering the info icon */\n",
       ".sk-estimator-doc-link span {\n",
       "  display: none;\n",
       "  z-index: 9999;\n",
       "  position: relative;\n",
       "  font-weight: normal;\n",
       "  right: .2ex;\n",
       "  padding: .5ex;\n",
       "  margin: .5ex;\n",
       "  width: min-content;\n",
       "  min-width: 20ex;\n",
       "  max-width: 50ex;\n",
       "  color: var(--sklearn-color-text);\n",
       "  box-shadow: 2pt 2pt 4pt #999;\n",
       "  /* unfitted */\n",
       "  background: var(--sklearn-color-unfitted-level-0);\n",
       "  border: .5pt solid var(--sklearn-color-unfitted-level-3);\n",
       "}\n",
       "\n",
       ".sk-estimator-doc-link.fitted span {\n",
       "  /* fitted */\n",
       "  background: var(--sklearn-color-fitted-level-0);\n",
       "  border: var(--sklearn-color-fitted-level-3);\n",
       "}\n",
       "\n",
       ".sk-estimator-doc-link:hover span {\n",
       "  display: block;\n",
       "}\n",
       "\n",
       "/* \"?\"-specific style due to the `<a>` HTML tag */\n",
       "\n",
       "#sk-container-id-5 a.estimator_doc_link {\n",
       "  float: right;\n",
       "  font-size: 1rem;\n",
       "  line-height: 1em;\n",
       "  font-family: monospace;\n",
       "  background-color: var(--sklearn-color-background);\n",
       "  border-radius: 1rem;\n",
       "  height: 1rem;\n",
       "  width: 1rem;\n",
       "  text-decoration: none;\n",
       "  /* unfitted */\n",
       "  color: var(--sklearn-color-unfitted-level-1);\n",
       "  border: var(--sklearn-color-unfitted-level-1) 1pt solid;\n",
       "}\n",
       "\n",
       "#sk-container-id-5 a.estimator_doc_link.fitted {\n",
       "  /* fitted */\n",
       "  border: var(--sklearn-color-fitted-level-1) 1pt solid;\n",
       "  color: var(--sklearn-color-fitted-level-1);\n",
       "}\n",
       "\n",
       "/* On hover */\n",
       "#sk-container-id-5 a.estimator_doc_link:hover {\n",
       "  /* unfitted */\n",
       "  background-color: var(--sklearn-color-unfitted-level-3);\n",
       "  color: var(--sklearn-color-background);\n",
       "  text-decoration: none;\n",
       "}\n",
       "\n",
       "#sk-container-id-5 a.estimator_doc_link.fitted:hover {\n",
       "  /* fitted */\n",
       "  background-color: var(--sklearn-color-fitted-level-3);\n",
       "}\n",
       "</style><div id=\"sk-container-id-5\" class=\"sk-top-container\"><div class=\"sk-text-repr-fallback\"><pre>KNeighborsClassifier()</pre><b>In a Jupyter environment, please rerun this cell to show the HTML representation or trust the notebook. <br />On GitHub, the HTML representation is unable to render, please try loading this page with nbviewer.org.</b></div><div class=\"sk-container\" hidden><div class=\"sk-item\"><div class=\"sk-estimator fitted sk-toggleable\"><input class=\"sk-toggleable__control sk-hidden--visually\" id=\"sk-estimator-id-5\" type=\"checkbox\" checked><label for=\"sk-estimator-id-5\" class=\"sk-toggleable__label fitted sk-toggleable__label-arrow fitted\">&nbsp;&nbsp;KNeighborsClassifier<a class=\"sk-estimator-doc-link fitted\" rel=\"noreferrer\" target=\"_blank\" href=\"https://scikit-learn.org/1.5/modules/generated/sklearn.neighbors.KNeighborsClassifier.html\">?<span>Documentation for KNeighborsClassifier</span></a><span class=\"sk-estimator-doc-link fitted\">i<span>Fitted</span></span></label><div class=\"sk-toggleable__content fitted\"><pre>KNeighborsClassifier()</pre></div> </div></div></div></div>"
      ],
      "text/plain": [
       "KNeighborsClassifier()"
      ]
     },
     "execution_count": 89,
     "metadata": {},
     "output_type": "execute_result"
    }
   ],
   "source": [
    "# Initialize KNN with k=5 (you can tweak this)\n",
    "knn_model = KNeighborsClassifier(n_neighbors=5)\n",
    "knn_model.fit(X_train_tfidf, y_train)"
   ]
  },
  {
   "cell_type": "code",
   "execution_count": 90,
   "id": "5f2ed1b1-bb99-4eb2-af1e-020eff2df045",
   "metadata": {},
   "outputs": [],
   "source": [
    "# Predict\n",
    "y_pred_knn = knn_model.predict(X_test_tfidf)"
   ]
  },
  {
   "cell_type": "code",
   "execution_count": 91,
   "id": "a5408c3b-f9bb-4978-9b95-684b4ba97db0",
   "metadata": {},
   "outputs": [
    {
     "name": "stdout",
     "output_type": "stream",
     "text": [
      "Accuracy: 0.4619806960809823\n"
     ]
    }
   ],
   "source": [
    "# Evaluate\n",
    "accuracy_knn = accuracy_score(y_test, y_pred_knn)\n",
    "print(\"Accuracy:\", accuracy_knn)"
   ]
  },
  {
   "cell_type": "markdown",
   "id": "7f653ece-8831-437f-b149-739c895ea8c9",
   "metadata": {},
   "source": [
    "<div class=\"alert-success\">\n",
    "Accuracy of .% — and the model is clearly performing well across all three sentiment classes!\n",
    "</div>"
   ]
  },
  {
   "cell_type": "code",
   "execution_count": 92,
   "id": "4f91628b-8a24-4550-9c8b-806f38c46256",
   "metadata": {},
   "outputs": [
    {
     "name": "stdout",
     "output_type": "stream",
     "text": [
      "\n",
      "Classification Report:\n",
      "              precision    recall  f1-score   support\n",
      "\n",
      "          -1       0.79      0.25      0.38     22987\n",
      "           0       0.33      0.95      0.49     21168\n",
      "           1       0.89      0.31      0.46     36554\n",
      "\n",
      "    accuracy                           0.46     80709\n",
      "   macro avg       0.67      0.50      0.45     80709\n",
      "weighted avg       0.71      0.46      0.45     80709\n",
      "\n"
     ]
    }
   ],
   "source": [
    "print(\"\\nClassification Report:\")\n",
    "print(classification_report(y_test, y_pred_knn))"
   ]
  },
  {
   "cell_type": "code",
   "execution_count": 93,
   "id": "fe78dc36-13a9-46fb-90f9-c8296e4436ca",
   "metadata": {},
   "outputs": [
    {
     "data": {
      "image/png": "[encoded data removed]",
      "text/plain": [
       "<Figure size 700x500 with 2 Axes>"
      ]
     },
     "metadata": {},
     "output_type": "display_data"
    }
   ],
   "source": [
    "# Confusion Matrix\n",
    "cm_knn = confusion_matrix(y_test, y_pred_knn)\n",
    "plt.figure(figsize=(7,5))\n",
    "sns.heatmap(cm_knn, annot=True, fmt='d', cmap='Greens',\n",
    "            xticklabels=['Negative', 'Neutral', 'Positive'],\n",
    "            yticklabels=['Negative', 'Neutral', 'Positive'])\n",
    "plt.xlabel('Predicted Value')\n",
    "plt.ylabel('Actual Value')\n",
    "plt.title('KNN Confusion Matrix')\n",
    "plt.show()"
   ]
  },
  {
   "cell_type": "markdown",
   "id": "c7e03836-7930-4d5c-a1b4-e5b54ecebb73",
   "metadata": {},
   "source": [
    "# Choosing the Best Model\n",
    "Picking the model with the best performance based on:\n",
    "\n",
    "- Accuracy\n",
    "- F1-score"
   ]
  },
  {
   "cell_type": "markdown",
   "id": "fa2503bc-3adb-47d8-a365-773a7c2a2200",
   "metadata": {},
   "source": [
    "### Model Performance Comparison\n",
    "\n",
    "| Model                        | Accuracy  | F1-Score  |\n",
    "|------------------------------|-----------|-----------|\n",
    "| **Logistic Regression**       | 90.38%    | 0.90      |\n",
    "| **Random Forest Classifier**  | 87.69%    | 0.88      |\n",
    "| **Support Vector Machine**    | 90.79%    | 0.91      |\n",
    "| **Multinomial Naive Bayes**  | 73.88%    | 0.73      |\n",
    "| **K-Nearest Neighbors (KNN)** | 46.20%    | 0.45      |\n",
    "\n",
    "---\n",
    "\n",
    "### Key Insights:\n",
    "- **Best Model**: **Support Vector Machine (SVM)** with the highest accuracy (90.79%) and F1-score (0.91).\n",
    "- **Worst Model**: **K-Nearest Neighbors (KNN)** with the lowest accuracy (46.20%) and F1-score (0.45)."
   ]
  },
  {
   "cell_type": "markdown",
   "id": "c5c14a33-8791-4144-a9ec-a4853039eccd",
   "metadata": {},
   "source": [
    "# Saving Model and Vectorizer"
   ]
  },
  {
   "cell_type": "code",
   "execution_count": 98,
   "id": "e7620698-b447-4cdb-9c74-303670be9da2",
   "metadata": {},
   "outputs": [],
   "source": [
    "# Creating 'model' directory if it doesn't exist\n",
    "os.makedirs('model', exist_ok=True)"
   ]
  },
  {
   "cell_type": "code",
   "execution_count": 99,
   "id": "91ec5f4f-faf3-4add-84df-58e597506bdf",
   "metadata": {},
   "outputs": [
    {
     "data": {
      "text/plain": [
       "['model/sentiment_model.pkl']"
      ]
     },
     "execution_count": 99,
     "metadata": {},
     "output_type": "execute_result"
    }
   ],
   "source": [
    "# Saving the best model (SVM in your case)\n",
    "joblib.dump(svm_model, 'model/sentiment_model.pkl')"
   ]
  },
  {
   "cell_type": "code",
   "execution_count": 102,
   "id": "be58e416-98ca-438f-995b-c4021d8c915f",
   "metadata": {},
   "outputs": [
    {
     "name": "stdout",
     "output_type": "stream",
     "text": [
      "Variable                     Type                          Data/Info\n",
      "--------------------------------------------------------------------\n",
      "Axes3D                       type                          <class 'mpl_toolkits.mplot3d.axes3d.Axes3D'>\n",
      "KNeighborsClassifier         ABCMeta                       <class 'sklearn.neighbors<...>on.KNeighborsClassifier'>\n",
      "LinearSVC                    type                          <class 'sklearn.svm._classes.LinearSVC'>\n",
      "LogisticRegression           type                          <class 'sklearn.linear_mo<...>stic.LogisticRegression'>\n",
      "MultinomialNB                ABCMeta                       <class 'sklearn.naive_bayes.MultinomialNB'>\n",
      "PCA                          ABCMeta                       <class 'sklearn.decomposition._pca.PCA'>\n",
      "RandomForestClassifier       ABCMeta                       <class 'sklearn.ensemble.<...>.RandomForestClassifier'>\n",
      "SentimentIntensityAnalyzer   type                          <class 'nltk.sentiment.va<...>timentIntensityAnalyzer'>\n",
      "StandardScaler               type                          <class 'sklearn.preproces<...>ng._data.StandardScaler'>\n",
      "TextBlob                     type                          <class 'textblob.blob.TextBlob'>\n",
      "TfidfVectorizer              type                          <class 'sklearn.feature_e<...>on.text.TfidfVectorizer'>\n",
      "WordNetLemmatizer            type                          <class 'nltk.stem.wordnet.WordNetLemmatizer'>\n",
      "X                            Series                        0                        <...>th: 403543, dtype: object\n",
      "X_pca                        ndarray                       404188x17: 6871196 elems, type `float64`, 54969568 bytes (52.423065185546875 Mb)\n",
      "X_pca_2d                     ndarray                       404188x2: 808376 elems, type `float64`, 6467008 bytes (6.16741943359375 Mb)\n",
      "X_pca_3d                     ndarray                       404188x3: 1212564 elems, type `float64`, 9700512 bytes (9.251129150390625 Mb)\n",
      "X_scaled                     ndarray                       404188x17: 6871196 elems, type `float64`, 54969568 bytes (52.423065185546875 Mb)\n",
      "X_test                       Series                        388301                   <...>gth: 80709, dtype: object\n",
      "X_test_tfidf                 csr_matrix                      (0, 2627)\t1.0\\n  (1, 30<...> 4317)\t0.5194632331448719\n",
      "X_train                      Series                        300490                   <...>th: 322834, dtype: object\n",
      "  (0, 2944)\t0.67837014876<...>, 156)\t0.5659680575213387    \n",
      "accuracy_knn                 float                         0.4619806960809823\n",
      "accuracy_nb                  float                         0.7388023640486191\n",
      "accuracy_rf                  float                         0.8769158334262598\n",
      "accuracy_score               function                      <function accuracy_score at 0x000002457E6025C0>\n",
      "accuracy_svm                 float                         0.9079037034283661\n",
      "ax                           Axes3D                        Axes3D(0.2045,0.11;0.616x0.77)\n",
      "classification_report        function                      <function classification_<...>rt at 0x000002457E603A60>\n",
      "clean_tweet                  function                      <function clean_tweet at 0x000002450B413F60>\n",
      "cleaned_file_path            str                           C:\\Users\\ICT\\Desktop\\300l<...>ized_election_dataset.csv\n",
      "cm                           ndarray                       3x3: 9 elems, type `int64`, 72 bytes\n",
      "cm_knn                       ndarray                       3x3: 9 elems, type `int64`, 72 bytes\n",
      "cm_nb                        ndarray                       3x3: 9 elems, type `int64`, 72 bytes\n",
      "cm_rf                        ndarray                       3x3: 9 elems, type `int64`, 72 bytes\n",
      "cm_svm                       ndarray                       3x3: 9 elems, type `int64`, 72 bytes\n",
      "confusion_matrix             function                      <function confusion_matrix at 0x000002457E602700>\n",
      "       Language  Number o<...>403543 rows x 22 columns]    \n",
      "f1_score                     function                      <function f1_score at 0x000002457E602E80>\n",
      "features                     list                          n=17\n",
      "fig                          Figure                        Figure(1000x800)\n",
      "get_sentiment                function                      <function get_sentiment at 0x00000245219DF2E0>\n",
      "joblib                       module                        <module 'joblib' from 'C:<...>es\\\\joblib\\\\__init__.py'>\n",
      "keywords                     list                          n=9\n",
      "knn_model                    KNeighborsClassifier          KNeighborsClassifier()\n",
      "kw                           str                           nnpp\n",
      "label_mapping                dict                          n=3\n",
      "lemmatizer                   WordNetLemmatizer             <WordNetLemmatizer>\n",
      "lexical_diversity            function                      <function lexical_diversi<...>ty at 0x00000245095FE160>\n",
      "lr_model                     LogisticRegression            LogisticRegression(max_iter=1000)\n",
      "nb_model                     MultinomialNB                 MultinomialNB()\n",
      "nltk                         module                        <module 'nltk' from 'C:\\\\<...>ages\\\\nltk\\\\__init__.py'>\n",
      "os                           module                        <module 'os' (frozen)>\n",
      "pca                          PCA                           PCA()\n",
      "pca_2d                       PCA                           PCA(n_components=2)\n",
      "pca_3d                       PCA                           PCA(n_components=3)\n",
      "pd                           module                        <module 'pandas' from 'C:<...>es\\\\pandas\\\\__init__.py'>\n",
      "plt                          module                        <module 'matplotlib.pyplo<...>\\\\matplotlib\\\\pyplot.py'>\n",
      "pos_ratios                   function                      <function pos_ratios at 0x00000245095FE020>\n",
      "pos_tag                      function                      <function pos_tag at 0x000002457D4828E0>\n",
      "re                           module                        <module 're' from 'C:\\\\Us<...>3\\\\Lib\\\\re\\\\__init__.py'>\n",
      "rf_model                     RandomForestClassifier        RandomForestClassifier(random_state=42)\n",
      "scaler                       StandardScaler                StandardScaler()\n",
      "sia                          SentimentIntensityAnalyzer    <nltk.sentiment.vader.Sen<...>ct at 0x000002450FA3CE60>\n",
      "sid                          SentimentIntensityAnalyzer    <nltk.sentiment.vader.Sen<...>ct at 0x0000024532FDE7E0>\n",
      "sns                          module                        <module 'seaborn' from 'C<...>s\\\\seaborn\\\\__init__.py'>\n",
      "stop_words                   set                           {'he', \"mightn't\", 'would<...>, \"he's\", 'having', 'if'}\n",
      "stopwords                    WordListCorpusReader          <WordListCorpusReader in <...>ata\\\\corpora\\\\stopwords'>\n",
      "svm_model                    LinearSVC                     LinearSVC()\n",
      "tfidf                        TfidfVectorizer               TfidfVectorizer(max_features=5000)\n",
      "train_test_split             function                      <function train_test_split at 0x000002457E67DF80>\n",
      "vader_sentiment              function                      <function vader_sentiment at 0x00000245095FF100>\n",
      "word_tokenize                function                      <function word_tokenize at 0x000002457D0A96C0>\n",
      "y                            Series                        0         1\\n1        -1\\<...>gth: 403543, dtype: int64\n",
      "y_pred                       ndarray                       80709: 80709 elems, type `int64`, 645672 bytes (630.5390625 kb)\n",
      "y_pred_knn                   ndarray                       80709: 80709 elems, type `int64`, 645672 bytes (630.5390625 kb)\n",
      "y_pred_nb                    ndarray                       80709: 80709 elems, type `int64`, 645672 bytes (630.5390625 kb)\n",
      "y_pred_rf                    ndarray                       80709: 80709 elems, type `int64`, 645672 bytes (630.5390625 kb)\n",
      "y_pred_svm                   ndarray                       80709: 80709 elems, type `int64`, 645672 bytes (630.5390625 kb)\n",
      "y_test                       Series                        388301    1\\n341167   -1\\<...>ngth: 80709, dtype: int64\n",
      "y_train                      Series                        300490    0\\n38750     1\\<...>gth: 322834, dtype: int64\n"
     ]
    }
   ],
   "source": [
    "%whos"
   ]
  },
  {
   "cell_type": "code",
   "execution_count": 103,
   "id": "76851278-e20e-4ec8-90f6-096a87781b4a",
   "metadata": {},
   "outputs": [
    {
     "data": {
      "text/plain": [
       "['model/tfidf_vectorizer.pkl']"
      ]
     },
     "execution_count": 103,
     "metadata": {},
     "output_type": "execute_result"
    }
   ],
   "source": [
    "# Saving the vectorizer\n",
    "joblib.dump(tfidf, 'model/tfidf_vectorizer.pkl')"
   ]
  },
  {
   "cell_type": "code",
   "execution_count": 105,
   "id": "9edfd982-f006-462a-9d2f-da6ec9f99f93",
   "metadata": {},
   "outputs": [],
   "source": [
    "loaded_model = joblib.load('model/sentiment_model.pkl')"
   ]
  },
  {
   "cell_type": "code",
   "execution_count": 106,
   "id": "aa1db654-6185-4d5a-a4e2-704b73c2dd64",
   "metadata": {},
   "outputs": [],
   "source": [
    "loaded_vectorizer = joblib.load('model/tfidf_vectorizer.pkl')"
   ]
  },
  {
   "cell_type": "code",
   "execution_count": 108,
   "id": "8e45ca5c-1352-4809-81d8-2f58d6690657",
   "metadata": {},
   "outputs": [
    {
     "name": "stdout",
     "output_type": "stream",
     "text": [
      "[ 1 -1]\n"
     ]
    }
   ],
   "source": [
    "# Example tweet(s)\n",
    "new_tweets = [\"I really support this candidate!\", \"This government is a complete disaster.\"]\n",
    "\n",
    "# Clean the tweets (using your existing function)\n",
    "new_cleaned_tweets = [clean_tweet(tweet) for tweet in new_tweets]\n",
    "\n",
    "# Transform using the saved TF-IDF vectorizer\n",
    "new_tfidf = loaded_vectorizer.transform(new_cleaned_tweets)\n",
    "\n",
    "# Predict using the loaded model\n",
    "preds = loaded_model.predict(new_tfidf)\n",
    "\n",
    "print(preds)"
   ]
  },
  {
   "cell_type": "code",
   "execution_count": 109,
   "id": "656dbae1-122c-45c5-96b7-7a62dcef05f8",
   "metadata": {},
   "outputs": [],
   "source": [
    "data.to_csv('final_labeled_tweets.csv', index=False)"
   ]
  },
  {
   "cell_type": "markdown",
   "id": "9d036505-fb7b-47ce-9e99-6b513d351f72",
   "metadata": {},
   "source": [
    "# Group Sentiment by Candidate\n",
    "With our data structured like this — where each tweet is already labeled with: sentiment_label (positive, negative, neutral) and binary indicators for candidate mentions (like contains_obi, contains_atiku, contains_tinubu, etc.), we can easily group sentiment by candidate to analyze who has the highest positive/negative/neutral engagements. "
   ]
  },
  {
   "cell_type": "markdown",
   "id": "82f4fcfa-e114-47cb-8f0b-a84016c84939",
   "metadata": {},
   "source": [
    "Now we can make statements like:\n",
    "\"According to our model, 68% of tweets mentioning XXXXX were positive, compared to 49% for ZZZZZZ and 44% for YYYYY.\""
   ]
  },
  {
   "cell_type": "code",
   "execution_count": 114,
   "id": "aefd4488-8d4e-4020-aaa5-1180e1ec9a32",
   "metadata": {},
   "outputs": [
    {
     "name": "stdout",
     "output_type": "stream",
     "text": [
      "Variable   Type         Data/Info\n",
      "---------------------------------\n",
      "data       DataFrame           Language  Number o<...>403543 rows x 22 columns]\n"
     ]
    }
   ],
   "source": [
    "whos DataFrame"
   ]
  },
  {
   "cell_type": "code",
   "execution_count": 115,
   "id": "c64e7365-fd3b-44e2-afee-a976490baaa9",
   "metadata": {},
   "outputs": [
    {
     "name": "stdout",
     "output_type": "stream",
     "text": [
      "   Candidate  Total Tweets  Positive  Negative  Neutral  Positive (%)  \\\n",
      "0        Obi         45424     23656     12978     8790         52.08   \n",
      "1      Atiku          5213      2812      1383     1018         53.94   \n",
      "2     Tinubu         12991      6115      4313     2563         47.07   \n",
      "3  Kwankwaso           605       341       126      138         56.36   \n",
      "\n",
      "   Negative (%)  Neutral (%)  \n",
      "0         28.57        19.35  \n",
      "1         26.53        19.53  \n",
      "2         33.20        19.73  \n",
      "3         20.83        22.81  \n"
     ]
    }
   ],
   "source": [
    "# Making a copy to work on\n",
    "df = data.copy()\n",
    "\n",
    "# List of candidates' columns\n",
    "candidates = {\n",
    "    \"Obi\": \"contains_obi\",\n",
    "    \"Atiku\": \"contains_atiku\",\n",
    "    \"Tinubu\": \"contains_tinubu\",\n",
    "    \"Kwankwaso\": \"contains_kwankwaso\"\n",
    "}\n",
    "\n",
    "# Initialize an empty list to store results\n",
    "results = []\n",
    "\n",
    "for candidate, column in candidates.items():\n",
    "    # Filter rows where the candidate was mentioned\n",
    "    candidate_tweets = df[df[column] == 1]\n",
    "\n",
    "    # Countiing sentiment labels\n",
    "    positive = (candidate_tweets[\"sentiment_label\"] == \"positive\").sum()\n",
    "    negative = (candidate_tweets[\"sentiment_label\"] == \"negative\").sum()\n",
    "    neutral = (candidate_tweets[\"sentiment_label\"] == \"neutral\").sum()\n",
    "    total = positive + negative + neutral\n",
    "\n",
    "    # Calculating percentages\n",
    "    if total > 0:\n",
    "        pos_pct = (positive / total) * 100\n",
    "        neg_pct = (negative / total) * 100\n",
    "        neu_pct = (neutral / total) * 100\n",
    "    else:\n",
    "        pos_pct = neg_pct = neu_pct = 0\n",
    "\n",
    "    results.append({\n",
    "        \"Candidate\": candidate,\n",
    "        \"Total Tweets\": total,\n",
    "        \"Positive\": positive,\n",
    "        \"Negative\": negative,\n",
    "        \"Neutral\": neutral,\n",
    "        \"Positive (%)\": round(pos_pct, 2),\n",
    "        \"Negative (%)\": round(neg_pct, 2),\n",
    "        \"Neutral (%)\": round(neu_pct, 2)\n",
    "    })\n",
    "\n",
    "# Converting to DataFrame\n",
    "sentiment_summary = pd.DataFrame(results)\n",
    "\n",
    "# Display\n",
    "print(sentiment_summary)"
   ]
  },
  {
   "cell_type": "markdown",
   "id": "f4f5ece6-3a42-4565-ba6b-582b8fe8e1fb",
   "metadata": {},
   "source": [
    "### Visualizing Group Sentiment by Candidate"
   ]
  },
  {
   "cell_type": "code",
   "execution_count": 117,
   "id": "a54fb5b7-d491-4222-88ae-2dfa5a12ffa7",
   "metadata": {},
   "outputs": [
    {
     "data": {
      "image/png": "[encoded data removed]",
      "text/plain": [
       "<Figure size 1000x600 with 1 Axes>"
      ]
     },
     "metadata": {},
     "output_type": "display_data"
    }
   ],
   "source": [
    "# Plot without setting a style\n",
    "fig, ax = plt.subplots(figsize=(10, 6))\n",
    "sentiment_summary.set_index(\"Candidate\")[[\"Positive (%)\",\"Negative (%)\",\"Neutral (%)\"]].plot(\n",
    "    kind='bar', ax=ax\n",
    ")\n",
    "ax.set_title(\"Sentiment Distribution per Candidate\")\n",
    "ax.set_ylabel(\"Percentage (%)\")\n",
    "ax.set_xlabel(\"Candidate\")\n",
    "ax.legend(title=\"Sentiment\")\n",
    "plt.xticks(rotation=0)\n",
    "plt.tight_layout()\n",
    "plt.show()"
   ]
  },
  {
   "cell_type": "code",
   "execution_count": null,
   "id": "e04c291c-1e4b-453a-b781-96291ba07dce",
   "metadata": {},
   "outputs": [],
   "source": []
  }
 ],
 "metadata": {
  "kernelspec": {
   "display_name": "Python 3 (ipykernel)",
   "language": "python",
   "name": "python3"
  },
  "language_info": {
   "codemirror_mode": {
    "name": "ipython",
    "version": 3
   },
   "file_extension": ".py",
   "mimetype": "text/x-python",
   "name": "python",
   "nbconvert_exporter": "python",
   "pygments_lexer": "ipython3",
   "version": "3.12.7"
  }
 },
 "nbformat": 4,
 "nbformat_minor": 5
}
